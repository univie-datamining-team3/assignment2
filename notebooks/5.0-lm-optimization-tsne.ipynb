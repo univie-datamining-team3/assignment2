{
 "cells": [
  {
   "cell_type": "markdown",
   "metadata": {},
   "source": [
    "## Parameter optimization for t-SNE"
   ]
  },
  {
   "cell_type": "code",
   "execution_count": 1,
   "metadata": {},
   "outputs": [],
   "source": [
    "# Load the \"autoreload\" extension\n",
    "%load_ext autoreload\n",
    "\n",
    "# always reload modules marked with \"%aimport\"\n",
    "%autoreload 1\n",
    "\n",
    "import os\n",
    "import sys\n",
    "from dotenv import load_dotenv, find_dotenv\n",
    "import numpy as np\n",
    "import pandas as pd\n",
    "import hdbscan\n",
    "import scipy\n",
    "#Visualisation Libraries\n",
    "%matplotlib inline\n",
    "# Uncomment if you want interactive 3D plots --> does not work in the github rendering\n",
    "#%matplotlib notebook\n",
    "from copy import deepcopy\n",
    "\n",
    "import matplotlib\n",
    "import matplotlib.pyplot as plt\n",
    "from mpl_toolkits.mplot3d import Axes3D\n",
    "matplotlib.style.use('ggplot')\n",
    "import seaborn as sns\n",
    "# add the 'src' directory as one where we can import modules\n",
    "src_dir = os.path.join(os.getcwd(), os.pardir, 'src')\n",
    "sys.path.append(src_dir)\n",
    "\n",
    "%aimport visualization.visualize\n",
    "from visualization.visualize import get_color_encoding\n",
    "from visualization.visualize import plot_timeseries_clustering\n",
    "from visualization.visualize import get_plot_timeseries_clustering_variables\n",
    "%aimport data.preprocessing\n",
    "from data.preprocessing import Preprocessor\n",
    "%aimport data.download\n",
    "from data.download import DatasetDownloader\n",
    "%aimport utils.utilities\n",
    "from utils.utilities import get_cluster_labels\n",
    "\n",
    "%aimport models.cluster\n",
    "from models.cluster import get_clustering_performance\n",
    "%aimport models.dimensionality_reduction\n",
    "from models.dimensionality_reduction.TSNEModel import TSNEModel\n",
    "from models.dimensionality_reduction.BayesianTSNEOptimizer import BayesianTSNEOptimizer"
   ]
  },
  {
   "cell_type": "markdown",
   "metadata": {},
   "source": [
    "Load data from disk."
   ]
  },
  {
   "cell_type": "code",
   "execution_count": 2,
   "metadata": {},
   "outputs": [],
   "source": [
    "# Load data from disk.\n",
    "data_dir = os.path.join(os.path.abspath(DatasetDownloader.get_data_dir()))\n",
    "file_path = os.path.join(data_dir, \"preprocessed\",\"preprocessed_data.dat\")\n",
    "dfs = Preprocessor.restore_preprocessed_data_from_disk(file_path)"
   ]
  },
  {
   "cell_type": "markdown",
   "metadata": {},
   "source": [
    "Calculate distances."
   ]
  },
  {
   "cell_type": "code",
   "execution_count": 3,
   "metadata": {},
   "outputs": [],
   "source": [
    "trips_cut_per_30_sec = Preprocessor.get_cut_trip_snippets_for_total(dfs)\n",
    "euclidean_distances = Preprocessor.calculate_distance_for_n2(trips_cut_per_30_sec, metric=\"euclidean\")"
   ]
  },
  {
   "cell_type": "markdown",
   "metadata": {},
   "source": [
    "Prepare distance data for fitting of t-SNE model."
   ]
  },
  {
   "cell_type": "code",
   "execution_count": 4,
   "metadata": {},
   "outputs": [],
   "source": [
    "categorical_columns = [\"mode\", \"notes\", \"scripted\", \"token\", \"trip_id\"]\n",
    "segment_distance_matrix = euclidean_distances.drop(categorical_columns,axis=1)"
   ]
  },
  {
   "cell_type": "markdown",
   "metadata": {},
   "source": [
    "Next steps: Integrate BayesianTSNEOptimizer, start optimization (record results and ingest at next start as initialization values)."
   ]
  },
  {
   "cell_type": "code",
   "execution_count": null,
   "metadata": {
    "scrolled": true
   },
   "outputs": [
    {
     "name": "stdout",
     "output_type": "stream",
     "text": [
      "\u001b[31mInitialization\u001b[0m\n",
      "\u001b[94m-------------------------------------------------------------------------------------------------------------------\u001b[0m\n",
      " Step |   Time |      Value |     angle |   early_exaggeration |   learning_rate |   min_grad_norm |   perplexity | \n",
      "    1 | 00m39s | \u001b[35m   0.31545\u001b[0m | \u001b[32m   0.3670\u001b[0m | \u001b[32m             20.7664\u001b[0m | \u001b[32m      1362.7504\u001b[0m | \u001b[32m         0.0746\u001b[0m | \u001b[32m     83.7103\u001b[0m | \n",
      "    2 | 00m47s |    0.30508 |    0.1838 |              46.1613 |       1190.6741 |          0.0692 |      88.4468 | \n",
      "    3 | 01m24s | \u001b[35m   0.33150\u001b[0m | \u001b[32m   0.1819\u001b[0m | \u001b[32m             27.9298\u001b[0m | \u001b[32m       124.7082\u001b[0m | \u001b[32m         0.0151\u001b[0m | \u001b[32m     63.0446\u001b[0m | \n",
      "    4 | 01m02s |    0.30647 |    0.4377 |              29.9633 |       1489.2382 |          0.0269 |      22.1565 | \n",
      "    5 | 01m04s | \u001b[35m   0.33906\u001b[0m | \u001b[32m   0.2580\u001b[0m | \u001b[32m             12.1081\u001b[0m | \u001b[32m       224.7585\u001b[0m | \u001b[32m         0.0865\u001b[0m | \u001b[32m     46.8425\u001b[0m | \n",
      "    6 | 00m22s | \u001b[35m   0.34679\u001b[0m | \u001b[32m   0.9316\u001b[0m | \u001b[32m              1.9542\u001b[0m | \u001b[32m      1725.6643\u001b[0m | \u001b[32m         0.0780\u001b[0m | \u001b[32m     44.6055\u001b[0m | \n",
      "    7 | 00m29s |    0.32042 |    0.4545 |              11.8930 |       1472.6477 |          0.0803 |      33.8187 | \n",
      "    8 | 00m33s |    0.32204 |    0.9125 |               9.1818 |        662.3515 |          0.0518 |       8.2349 | \n",
      "    9 | 00m44s |    0.30667 |    0.7649 |              41.8931 |        887.6664 |          0.0596 |      61.4653 | \n",
      "   10 | 00m26s |    0.30480 |    0.7753 |              35.8293 |       1579.7353 |          0.0900 |      51.7411 | \n",
      "   11 | 01m14s |    0.30310 |    0.4613 |              42.8199 |       1454.3235 |          0.0059 |      51.1626 | \n",
      "   12 | 01m08s |    0.30047 |    0.6762 |              45.1215 |       1994.7637 |          0.0225 |      78.5963 | \n",
      "   13 | 00m59s |    0.30755 |    0.4566 |              25.9184 |       1508.4689 |          0.0038 |      21.5403 | \n",
      "   14 | 00m46s |    0.30800 |    0.4135 |              39.6806 |       1083.9379 |          0.0610 |      22.7550 | \n"
     ]
    }
   ],
   "source": [
    "# Define parameter ranges, fix static variables.\n",
    "param_ranges = deepcopy(TSNEModel.PARAMETER_RANGES)\n",
    "param_ranges[\"metric\"] = (TSNEModel.CATEGORICAL_VALUES[\"metric\"].index(\"precomputed\"),)\n",
    "param_ranges[\"init_method\"] = (TSNEModel.CATEGORICAL_VALUES[\"init_method\"].index(\"random\"),)\n",
    "param_ranges[\"random_state\"] = (42,)\n",
    "param_ranges[\"n_components\"] = (3,)\n",
    "param_ranges[\"n_iter\"] = (7000,)\n",
    "\n",
    "# Initialize new BO object.\n",
    "boOpt = BayesianTSNEOptimizer(\n",
    "    high_dim_data=segment_distance_matrix, \n",
    "    cluster_memberships=euclidean_distances[\"mode\"].values, \n",
    "    parameters=param_ranges\n",
    ")\n",
    "\n",
    "# Load existing results.\n",
    "history = BayesianTSNEOptimizer.load_result_dict(\"tsne_results\")\n",
    "if history is not None:\n",
    "    print(\"Number of models generated so far: \", len(history[\"values\"]))\n",
    "\n",
    "# Execute optimization; initialize with existing results.\n",
    "# Use higher init_fraction if not many initialization datapoints are available.\n",
    "results = boOpt.run(num_iterations=50, init_fraction=0.3, init_values=history, kappa=8.0)\n",
    "# Save merged result set (new results and existing ones).\n",
    "all_results = BayesianTSNEOptimizer.merge_result_dictionaries(results, history)\n",
    "BayesianTSNEOptimizer.persist_result_dict(\n",
    "    results=all_results,\n",
    "    filename=\"tsne_results\"\n",
    ")"
   ]
  },
  {
   "cell_type": "markdown",
   "metadata": {},
   "source": [
    "Sort results by score, pick highest."
   ]
  },
  {
   "cell_type": "code",
   "execution_count": null,
   "metadata": {},
   "outputs": [],
   "source": [
    "all_results_sorted_idx = np.argsort(all_results[\"values\"])\n",
    "max_score_index = all_results_sorted_idx[-1]\n",
    "best_param_set = all_results[\"params\"][max_score_index]\n",
    "print(best_param_set)"
   ]
  },
  {
   "cell_type": "markdown",
   "metadata": {},
   "source": [
    "(Re-)Generate model with given parameter set, since we didn't store the results for each run."
   ]
  },
  {
   "cell_type": "code",
   "execution_count": null,
   "metadata": {},
   "outputs": [],
   "source": [
    "tsne = TSNEModel(num_dimensions=3,\n",
    "                 perplexity=best_param_set[\"perplexity\"],\n",
    "                 early_exaggeration=best_param_set[\"early_exaggeration\"],\n",
    "                 learning_rate=best_param_set[\"learning_rate\"],\n",
    "                 num_iterations=int(round(best_param_set[\"n_iter\"])),\n",
    "                 min_grad_norm=best_param_set[\"min_grad_norm\"],\n",
    "                 random_state=42,\n",
    "                 angle=best_param_set[\"angle\"],\n",
    "                 metric='precomputed',\n",
    "                 init_method='random')\n",
    "# Fit t-SNE model.\n",
    "tsne_results = tsne.run(segment_distance_matrix.values)"
   ]
  },
  {
   "cell_type": "code",
   "execution_count": null,
   "metadata": {},
   "outputs": [],
   "source": [
    "transport_modes = {\n",
    "    'WALK': 'blue',\n",
    "    'METRO': 'red',\n",
    "    'TRAM': 'green'\n",
    "}\n",
    "tokens = {\n",
    "    '355007075245007': 'x',\n",
    "    '358568053229914': 'o',\n",
    "    '868049020858898': 'v'\n",
    "}\n",
    "\n",
    "\n",
    "fig, ax = plt.subplots(2, 3, figsize=(20, 10))\n",
    "\n",
    "for transport_mode, transport_mode_color in transport_modes.items():\n",
    "    transport_mode_scripted = euclidean_distances[\n",
    "        (euclidean_distances[\"mode\"] == transport_mode) &\n",
    "        (euclidean_distances[\"notes\"].str.contains('scripted'))\n",
    "    ]\n",
    "    transport_mode_unscripted = euclidean_distances[\n",
    "        (euclidean_distances[\"mode\"] == transport_mode) &\n",
    "        (~(euclidean_distances[\"notes\"].str.contains('scripted', na=False)))\n",
    "    ]\n",
    "    \n",
    "    for token, token_symbol in tokens.items():\n",
    "        transport_mode_scripted_for_token = transport_mode_scripted[\n",
    "            transport_mode_scripted[\"token\"] == token\n",
    "        ].index.values\n",
    "        transport_mode_unscripted_for_token = transport_mode_unscripted[\n",
    "            transport_mode_unscripted[\"token\"] == token\n",
    "        ].index.values\n",
    "        \n",
    "        ax[0, 0].scatter(\n",
    "            tsne_results[transport_mode_scripted_for_token, 0], \n",
    "            tsne_results[transport_mode_scripted_for_token, 1], \n",
    "            c=transport_mode_color, \n",
    "            marker=token_symbol, \n",
    "            alpha=0.5\n",
    "        )\n",
    "        ax[0, 1].scatter(\n",
    "            tsne_results[transport_mode_scripted_for_token, 0], \n",
    "            tsne_results[transport_mode_scripted_for_token, 2], \n",
    "            c=transport_mode_color, \n",
    "            marker=token_symbol, \n",
    "            alpha=0.5\n",
    "        )\n",
    "        ax[0, 2].scatter(\n",
    "            tsne_results[transport_mode_scripted_for_token, 1], \n",
    "            tsne_results[transport_mode_scripted_for_token, 2], \n",
    "            c=transport_mode_color, \n",
    "            marker=token_symbol, \n",
    "            alpha=0.5\n",
    "        )\n",
    "        \n",
    "        ax[1, 0].scatter(\n",
    "            tsne_results[transport_mode_unscripted_for_token, 0], \n",
    "            tsne_results[transport_mode_unscripted_for_token, 1], \n",
    "            c=transport_mode_color, \n",
    "            marker=token_symbol, \n",
    "            alpha=0.5\n",
    "        )\n",
    "        ax[1, 1].scatter(\n",
    "            tsne_results[transport_mode_unscripted_for_token, 0], \n",
    "            tsne_results[transport_mode_unscripted_for_token, 2], \n",
    "            c=transport_mode_color, \n",
    "            marker=token_symbol, \n",
    "            alpha=0.5\n",
    "        )\n",
    "        ax[1, 2].scatter(\n",
    "            tsne_results[transport_mode_unscripted_for_token, 1], \n",
    "            tsne_results[transport_mode_unscripted_for_token, 2], \n",
    "            c=transport_mode_color, \n",
    "            marker=token_symbol, \n",
    "            alpha=0.5\n",
    "        )\n",
    "\n",
    "ax[0, 0].set_title('Scripted')\n",
    "ax[0, 1].set_title('Scripted')\n",
    "ax[0, 2].set_title('Scripted')\n",
    "ax[1, 0].set_title('Unscripted')\n",
    "ax[1, 1].set_title('Unscripted')\n",
    "ax[1, 2].set_title('Unscripted')\n",
    "#ax[0].legend(loc='upper center', bbox_to_anchor=(1, 0.5))\n",
    "#ax[1].legend(loc='upper center', bbox_to_anchor=(1, 0.5))"
   ]
  }
 ],
 "metadata": {
  "kernelspec": {
   "display_name": "Python 3 @ /development/datamining",
   "language": "python",
   "name": "datamining"
  },
  "language_info": {
   "codemirror_mode": {
    "name": "ipython",
    "version": 3
   },
   "file_extension": ".py",
   "mimetype": "text/x-python",
   "name": "python",
   "nbconvert_exporter": "python",
   "pygments_lexer": "ipython3",
   "version": "3.5.2"
  }
 },
 "nbformat": 4,
 "nbformat_minor": 2
}
