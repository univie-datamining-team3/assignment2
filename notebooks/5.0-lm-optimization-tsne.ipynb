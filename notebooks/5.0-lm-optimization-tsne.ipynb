{
 "cells": [
  {
   "cell_type": "markdown",
   "metadata": {},
   "source": [
    "## Parameter optimization for t-SNE"
   ]
  },
  {
   "cell_type": "code",
   "execution_count": 1,
   "metadata": {},
   "outputs": [],
   "source": [
    "# Load the \"autoreload\" extension\n",
    "%load_ext autoreload\n",
    "\n",
    "# always reload modules marked with \"%aimport\"\n",
    "%autoreload 1\n",
    "\n",
    "import os\n",
    "import sys\n",
    "from dotenv import load_dotenv, find_dotenv\n",
    "import numpy as np\n",
    "import pandas as pd\n",
    "#Visualisation Libraries\n",
    "%matplotlib inline\n",
    "# Uncomment if you want interactive 3D plots --> does not work in the github rendering\n",
    "#%matplotlib notebook\n",
    "from copy import deepcopy\n",
    "\n",
    "import matplotlib\n",
    "import matplotlib.pyplot as plt\n",
    "from mpl_toolkits.mplot3d import Axes3D\n",
    "matplotlib.style.use('ggplot')\n",
    "import seaborn as sns\n",
    "# add the 'src' directory as one where we can import modules\n",
    "src_dir = os.path.join(os.getcwd(), os.pardir, 'src')\n",
    "sys.path.append(src_dir)\n",
    "\n",
    "%aimport visualization.visualize\n",
    "from visualization.visualize import get_color_encoding\n",
    "from visualization.visualize import plot_timeseries_clustering\n",
    "from visualization.visualize import get_plot_timeseries_clustering_variables\n",
    "%aimport data.preprocessing\n",
    "from data.preprocessing import Preprocessor\n",
    "%aimport data.download\n",
    "from data.download import DatasetDownloader\n",
    "%aimport utils.utilities\n",
    "from utils.utilities import get_cluster_labels\n",
    "\n",
    "%aimport models.cluster\n",
    "from models.cluster import get_clustering_performance\n",
    "%aimport models.dimensionality_reduction\n",
    "from models.dimensionality_reduction.TSNEModel import TSNEModel"
   ]
  },
  {
   "cell_type": "markdown",
   "metadata": {},
   "source": [
    "Load data from disk."
   ]
  },
  {
   "cell_type": "code",
   "execution_count": 2,
   "metadata": {},
   "outputs": [],
   "source": [
    "# Load data from disk.\n",
    "data_dir = os.path.join(os.path.abspath(DatasetDownloader.get_data_dir()))\n",
    "file_path = os.path.join(data_dir, \"preprocessed\",\"preprocessed_data.dat\")\n",
    "dfs = Preprocessor.restore_preprocessed_data_from_disk(file_path)"
   ]
  },
  {
   "cell_type": "markdown",
   "metadata": {},
   "source": [
    "Calculate distances."
   ]
  },
  {
   "cell_type": "code",
   "execution_count": 3,
   "metadata": {},
   "outputs": [],
   "source": [
    "trips_cut_per_30_sec = Preprocessor.get_cut_trip_snippets_for_total(dfs)\n",
    "euclidean_distances = Preprocessor.calculate_distance_for_n2(trips_cut_per_30_sec, metric=\"euclidean\")"
   ]
  },
  {
   "cell_type": "markdown",
   "metadata": {},
   "source": [
    "Generate t-SNE model."
   ]
  },
  {
   "cell_type": "code",
   "execution_count": 4,
   "metadata": {},
   "outputs": [],
   "source": [
    "tsne = TSNEModel(num_dimensions=2,\n",
    "                 perplexity=20,\n",
    "                 early_exaggeration=5.0,\n",
    "                 learning_rate=100,\n",
    "                 num_iterations=500,\n",
    "                 min_grad_norm=0.01,\n",
    "                 random_state=42,\n",
    "                 angle=0.2,\n",
    "                 metric='precomputed',\n",
    "                 init_method='random')"
   ]
  },
  {
   "cell_type": "markdown",
   "metadata": {},
   "source": [
    "Prepare distance data for fitting of t-SNE model."
   ]
  },
  {
   "cell_type": "code",
   "execution_count": 5,
   "metadata": {},
   "outputs": [],
   "source": [
    "categorical_columns = [\"mode\", \"notes\", \"scripted\", \"token\", \"trip_id\"]\n",
    "segment_distance_matrix = euclidean_distances.drop(categorical_columns,axis=1)"
   ]
  },
  {
   "cell_type": "markdown",
   "metadata": {},
   "source": [
    "Fit t-SNE model to data and calculate quality measures."
   ]
  },
  {
   "cell_type": "code",
   "execution_count": 7,
   "metadata": {},
   "outputs": [],
   "source": [
    "tsne_results = tsne.run(segment_distance_matrix.values)\n",
    "quality_measures = tsne.calculate_quality_measures(segment_distance_matrix.values)"
   ]
  },
  {
   "cell_type": "markdown",
   "metadata": {},
   "source": [
    "Next steps: Integrate BayesianTSNEOptimizer, start optimization (record results and ingest at next start as initialization values)."
   ]
  },
  {
   "cell_type": "code",
   "execution_count": null,
   "metadata": {},
   "outputs": [],
   "source": []
  }
 ],
 "metadata": {
  "kernelspec": {
   "display_name": "Python 3 @ /development/datamining",
   "language": "python",
   "name": "datamining"
  },
  "language_info": {
   "codemirror_mode": {
    "name": "ipython",
    "version": 3
   },
   "file_extension": ".py",
   "mimetype": "text/x-python",
   "name": "python",
   "nbconvert_exporter": "python",
   "pygments_lexer": "ipython3",
   "version": "3.5.2"
  }
 },
 "nbformat": 4,
 "nbformat_minor": 2
}
