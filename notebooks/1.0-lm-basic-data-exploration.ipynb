{
 "cells": [
  {
   "cell_type": "markdown",
   "metadata": {},
   "source": [
    "# Basic Exploratory Data Analysis\n",
    "\n",
    "In this notebook I will demonstrate how to download the data and how to visualise one trip. The import statements can be seen as a default for the jupyter notebook in the cookiecutter environment. If you only want to download all the data call:\n",
    "\n",
    "``python src\\data\\make_data.py``"
   ]
  },
  {
   "cell_type": "code",
   "execution_count": 1,
   "metadata": {
    "collapsed": true
   },
   "outputs": [],
   "source": [
    "# Load the \"autoreload\" extension\n",
    "%load_ext autoreload\n",
    "\n",
    "# always reload modules marked with \"%aimport\"\n",
    "%autoreload 1\n",
    "\n",
    "import os\n",
    "import sys\n",
    "from dotenv import load_dotenv, find_dotenv\n",
    "\n",
    "import pandas as pd\n",
    "import numpy as np\n",
    "\n",
    "#Visualisation Libraries\n",
    "%matplotlib inline\n",
    "import matplotlib\n",
    "import matplotlib.pyplot as plt\n",
    "matplotlib.style.use('ggplot')\n",
    "import seaborn as sns\n",
    "\n",
    "#####\n",
    "#\n",
    "# Default way of appending the src directory in the cookiecutter file structure\n",
    "#\n",
    "#####\n",
    "\n",
    "# add the 'src' directory as one where we can import modules\n",
    "src_dir = os.path.join(os.getcwd(), os.pardir, 'src')\n",
    "sys.path.append(src_dir)\n",
    "\n",
    "# By loading the dotenv we can access Environment variables setted int the dm_mobility_task/.env file\n",
    "# e.g. I setted there my token like this: \"KEY_LUKAS\"=1234, similary there is one for KEY_RAPHAEL and KEY_MORITZ\n",
    "load_dotenv(find_dotenv())\n",
    "\n",
    "# import my method from the source code\n",
    "%aimport data.data_utils\n",
    "from data.data_utils import list_recorded_data\n",
    "from data.data_utils import download_data_sets\n",
    "from data.data_utils import get_data_per_trip, get_data_per_token\n",
    "from data.data_utils import download_all\n",
    "from data.data_utils import VALID_NAMES\n",
    "%aimport visualization.visualize\n",
    "from visualization.visualize import plot_track\n"
   ]
  },
  {
   "cell_type": "code",
   "execution_count": 2,
   "metadata": {
    "scrolled": false
   },
   "outputs": [
    {
     "data": {
      "text/html": [
       "<div>\n",
       "<style>\n",
       "    .dataframe thead tr:only-child th {\n",
       "        text-align: right;\n",
       "    }\n",
       "\n",
       "    .dataframe thead th {\n",
       "        text-align: left;\n",
       "    }\n",
       "\n",
       "    .dataframe tbody tr th {\n",
       "        vertical-align: top;\n",
       "    }\n",
       "</style>\n",
       "<table border=\"1\" class=\"dataframe\">\n",
       "  <thead>\n",
       "    <tr style=\"text-align: right;\">\n",
       "      <th></th>\n",
       "      <th>full_name</th>\n",
       "      <th>last_modified</th>\n",
       "      <th>size</th>\n",
       "    </tr>\n",
       "  </thead>\n",
       "  <tbody>\n",
       "    <tr>\n",
       "      <th>0</th>\n",
       "      <td>868049020858898_20171109-131946</td>\n",
       "      <td>2017-11-10 10:00</td>\n",
       "      <td>11M</td>\n",
       "    </tr>\n",
       "    <tr>\n",
       "      <th>1</th>\n",
       "      <td>868049020858898_20171116-074009</td>\n",
       "      <td>2017-11-21 15:00</td>\n",
       "      <td>9.7M</td>\n",
       "    </tr>\n",
       "    <tr>\n",
       "      <th>2</th>\n",
       "      <td>868049020858898_20171123-072847</td>\n",
       "      <td>2017-11-23 08:00</td>\n",
       "      <td>6.1M</td>\n",
       "    </tr>\n",
       "    <tr>\n",
       "      <th>3</th>\n",
       "      <td>868049020858898_20171123-074632</td>\n",
       "      <td>2017-11-23 08:00</td>\n",
       "      <td>10M</td>\n",
       "    </tr>\n",
       "  </tbody>\n",
       "</table>\n",
       "</div>"
      ],
      "text/plain": [
       "                         full_name       last_modified  size\n",
       "0  868049020858898_20171109-131946  2017-11-10 10:00     11M\n",
       "1  868049020858898_20171116-074009  2017-11-21 15:00    9.7M\n",
       "2  868049020858898_20171123-072847  2017-11-23 08:00    6.1M\n",
       "3  868049020858898_20171123-074632  2017-11-23 08:00     10M"
      ]
     },
     "execution_count": 2,
     "metadata": {},
     "output_type": "execute_result"
    }
   ],
   "source": [
    "# the environment variable specified in .env\n",
    "# lists the recorded data by user\n",
    "token = os.environ.get(\"KEY_LUKAS\")\n",
    "recorded_trips = list_recorded_data(token)\n",
    "recorded_trips"
   ]
  },
  {
   "cell_type": "markdown",
   "metadata": {},
   "source": [
    "In order to avoid too many request to the server we can use the **full_name** column to download the data and save it to data/raw, but download_data_sets(token) can also download the data per token, or all data from our team can be downloaded with download_all()."
   ]
  },
  {
   "cell_type": "code",
   "execution_count": 3,
   "metadata": {
    "collapsed": true,
    "scrolled": true
   },
   "outputs": [],
   "source": [
    "# download_data_sets(token) works as well, \n",
    "# but than list_recorded_data is invoked again\n",
    "# we can also download all data for our team by \n",
    "# download_all()\n",
    "tar_file_names = list(recorded_trips[\"full_name\"] + \".csv.tar.gz\")\n",
    "download_data_sets(token, file_names=tar_file_names)\n"
   ]
  },
  {
   "cell_type": "markdown",
   "metadata": {},
   "source": [
    "The data has now been downloaded in dm_mobility_task/data/raw/token, we can check that by calling:"
   ]
  },
  {
   "cell_type": "code",
   "execution_count": 4,
   "metadata": {
    "scrolled": false
   },
   "outputs": [
    {
     "name": "stdout",
     "output_type": "stream",
     "text": [
      "We have recorded: 10 trips\n"
     ]
    },
    {
     "data": {
      "text/plain": [
       "['355007075245007\\\\355007075245007_20171108-110713.csv.tar.gz',\n",
       " '355007075245007\\\\355007075245007_20171108-132646.csv.tar.gz',\n",
       " '355007075245007\\\\355007075245007_20171121-140720.csv.tar.gz',\n",
       " '355007075245007\\\\355007075245007_20171121-141338.csv.tar.gz',\n",
       " '358568053229914\\\\358568053229914_20171121-144912.csv.tar.gz',\n",
       " '358568053229914\\\\358568053229914_20171121-145403.csv.tar.gz',\n",
       " '868049020858898\\\\868049020858898_20171109-131946.csv.tar.gz',\n",
       " '868049020858898\\\\868049020858898_20171116-074009.csv.tar.gz',\n",
       " '868049020858898\\\\868049020858898_20171123-072847.csv.tar.gz',\n",
       " '868049020858898\\\\868049020858898_20171123-074632.csv.tar.gz']"
      ]
     },
     "execution_count": 4,
     "metadata": {},
     "output_type": "execute_result"
    }
   ],
   "source": [
    "from data.data_utils import get_file_names, get_data_dir\n",
    "# also possible for specific token\n",
    "# get_file_names(os.path.join(get_data_dir(),\"raw\"), token=token)\n",
    "recorded_file_names = get_file_names(os.path.join(get_data_dir(),\"raw\"))\n",
    "print(\"We have recorded: {} trips\".format(len(recorded_file_names)))\n",
    "recorded_file_names"
   ]
  },
  {
   "cell_type": "markdown",
   "metadata": {},
   "source": [
    "Now that the data has been downloaded, we can read it from file and start to explore it. I will here only explore data from my key, but with get_data_per_trip(dir_name=\"raw\") it is possible to load all **raw** data per trip in memory."
   ]
  },
  {
   "cell_type": "code",
   "execution_count": 5,
   "metadata": {
    "collapsed": true
   },
   "outputs": [],
   "source": [
    "# read data per trip by for all users by invoking: get_data_per_trip(dir_name=\"raw\")\n",
    "\n",
    "dfs=get_data_per_token(token)"
   ]
  },
  {
   "cell_type": "markdown",
   "metadata": {},
   "source": [
    "The data can now be accessed in the following way. Enter one of the following valid names as key in the dictionary:\n"
   ]
  },
  {
   "cell_type": "code",
   "execution_count": 6,
   "metadata": {
    "scrolled": true
   },
   "outputs": [
    {
     "data": {
      "text/plain": [
       "['annotation', 'cell', 'event', 'location', 'mac', 'marker', 'sensor']"
      ]
     },
     "execution_count": 6,
     "metadata": {},
     "output_type": "execute_result"
    }
   ],
   "source": [
    "VALID_NAMES"
   ]
  },
  {
   "cell_type": "markdown",
   "metadata": {},
   "source": [
    "E.g. for the sensor data:"
   ]
  },
  {
   "cell_type": "code",
   "execution_count": 18,
   "metadata": {
    "scrolled": true
   },
   "outputs": [
    {
     "data": {
      "text/html": [
       "<div>\n",
       "<style>\n",
       "    .dataframe thead tr:only-child th {\n",
       "        text-align: right;\n",
       "    }\n",
       "\n",
       "    .dataframe thead th {\n",
       "        text-align: left;\n",
       "    }\n",
       "\n",
       "    .dataframe tbody tr th {\n",
       "        vertical-align: top;\n",
       "    }\n",
       "</style>\n",
       "<table border=\"1\" class=\"dataframe\">\n",
       "  <thead>\n",
       "    <tr style=\"text-align: right;\">\n",
       "      <th></th>\n",
       "      <th>sensor</th>\n",
       "      <th>time</th>\n",
       "      <th>x</th>\n",
       "      <th>y</th>\n",
       "      <th>z</th>\n",
       "      <th>total</th>\n",
       "    </tr>\n",
       "  </thead>\n",
       "  <tbody>\n",
       "    <tr>\n",
       "      <th>0</th>\n",
       "      <td>acceleration</td>\n",
       "      <td>1510229987055</td>\n",
       "      <td>-0.604904</td>\n",
       "      <td>2.676270</td>\n",
       "      <td>8.625931</td>\n",
       "      <td>9.051796</td>\n",
       "    </tr>\n",
       "    <tr>\n",
       "      <th>1</th>\n",
       "      <td>acceleration</td>\n",
       "      <td>1510229987067</td>\n",
       "      <td>-0.592941</td>\n",
       "      <td>2.871277</td>\n",
       "      <td>9.240875</td>\n",
       "      <td>9.694822</td>\n",
       "    </tr>\n",
       "    <tr>\n",
       "      <th>2</th>\n",
       "      <td>magnetic</td>\n",
       "      <td>1510229987064</td>\n",
       "      <td>-14.334106</td>\n",
       "      <td>-17.369080</td>\n",
       "      <td>-2.752686</td>\n",
       "      <td>22.687635</td>\n",
       "    </tr>\n",
       "    <tr>\n",
       "      <th>3</th>\n",
       "      <td>acceleration</td>\n",
       "      <td>1510229987075</td>\n",
       "      <td>-0.603714</td>\n",
       "      <td>2.852142</td>\n",
       "      <td>9.366501</td>\n",
       "      <td>9.809715</td>\n",
       "    </tr>\n",
       "    <tr>\n",
       "      <th>4</th>\n",
       "      <td>acceleration</td>\n",
       "      <td>1510229987085</td>\n",
       "      <td>-0.600128</td>\n",
       "      <td>2.813843</td>\n",
       "      <td>9.447861</td>\n",
       "      <td>9.876230</td>\n",
       "    </tr>\n",
       "    <tr>\n",
       "      <th>5</th>\n",
       "      <td>magnetic</td>\n",
       "      <td>1510229987081</td>\n",
       "      <td>-14.382935</td>\n",
       "      <td>-17.369080</td>\n",
       "      <td>-2.362061</td>\n",
       "      <td>22.674501</td>\n",
       "    </tr>\n",
       "    <tr>\n",
       "      <th>6</th>\n",
       "      <td>acceleration</td>\n",
       "      <td>1510229987098</td>\n",
       "      <td>-0.579788</td>\n",
       "      <td>2.792313</td>\n",
       "      <td>9.524429</td>\n",
       "      <td>9.942229</td>\n",
       "    </tr>\n",
       "    <tr>\n",
       "      <th>7</th>\n",
       "      <td>acceleration</td>\n",
       "      <td>1510229987106</td>\n",
       "      <td>-0.592941</td>\n",
       "      <td>2.792313</td>\n",
       "      <td>9.602203</td>\n",
       "      <td>10.017529</td>\n",
       "    </tr>\n",
       "    <tr>\n",
       "      <th>8</th>\n",
       "      <td>magnetic</td>\n",
       "      <td>1510229987098</td>\n",
       "      <td>-14.285278</td>\n",
       "      <td>-18.003845</td>\n",
       "      <td>-2.899170</td>\n",
       "      <td>23.164906</td>\n",
       "    </tr>\n",
       "    <tr>\n",
       "      <th>9</th>\n",
       "      <td>magnetic</td>\n",
       "      <td>1510229987114</td>\n",
       "      <td>-14.529419</td>\n",
       "      <td>-17.564392</td>\n",
       "      <td>-2.801514</td>\n",
       "      <td>22.966505</td>\n",
       "    </tr>\n",
       "  </tbody>\n",
       "</table>\n",
       "</div>"
      ],
      "text/plain": [
       "         sensor           time          x          y         z      total\n",
       "0  acceleration  1510229987055  -0.604904   2.676270  8.625931   9.051796\n",
       "1  acceleration  1510229987067  -0.592941   2.871277  9.240875   9.694822\n",
       "2      magnetic  1510229987064 -14.334106 -17.369080 -2.752686  22.687635\n",
       "3  acceleration  1510229987075  -0.603714   2.852142  9.366501   9.809715\n",
       "4  acceleration  1510229987085  -0.600128   2.813843  9.447861   9.876230\n",
       "5      magnetic  1510229987081 -14.382935 -17.369080 -2.362061  22.674501\n",
       "6  acceleration  1510229987098  -0.579788   2.792313  9.524429   9.942229\n",
       "7  acceleration  1510229987106  -0.592941   2.792313  9.602203  10.017529\n",
       "8      magnetic  1510229987098 -14.285278 -18.003845 -2.899170  23.164906\n",
       "9      magnetic  1510229987114 -14.529419 -17.564392 -2.801514  22.966505"
      ]
     },
     "execution_count": 18,
     "metadata": {},
     "output_type": "execute_result"
    }
   ],
   "source": [
    "trip_nr = 0\n",
    "dfs[trip_nr][\"sensor\"].head(10)"
   ]
  },
  {
   "cell_type": "markdown",
   "metadata": {},
   "source": [
    "Next we are visualizing the acceleration data:"
   ]
  },
  {
   "cell_type": "code",
   "execution_count": 8,
   "metadata": {
    "scrolled": true
   },
   "outputs": [
    {
     "data": {
      "text/html": [
       "<div>\n",
       "<style>\n",
       "    .dataframe thead tr:only-child th {\n",
       "        text-align: right;\n",
       "    }\n",
       "\n",
       "    .dataframe thead th {\n",
       "        text-align: left;\n",
       "    }\n",
       "\n",
       "    .dataframe tbody tr th {\n",
       "        vertical-align: top;\n",
       "    }\n",
       "</style>\n",
       "<table border=\"1\" class=\"dataframe\">\n",
       "  <thead>\n",
       "    <tr style=\"text-align: right;\">\n",
       "      <th></th>\n",
       "      <th>sensor</th>\n",
       "      <th>time</th>\n",
       "      <th>x</th>\n",
       "      <th>y</th>\n",
       "      <th>z</th>\n",
       "      <th>total</th>\n",
       "    </tr>\n",
       "  </thead>\n",
       "  <tbody>\n",
       "    <tr>\n",
       "      <th>0</th>\n",
       "      <td>acceleration</td>\n",
       "      <td>1510229987055</td>\n",
       "      <td>-0.604904</td>\n",
       "      <td>2.676270</td>\n",
       "      <td>8.625931</td>\n",
       "      <td>9.051796</td>\n",
       "    </tr>\n",
       "    <tr>\n",
       "      <th>1</th>\n",
       "      <td>acceleration</td>\n",
       "      <td>1510229987067</td>\n",
       "      <td>-0.592941</td>\n",
       "      <td>2.871277</td>\n",
       "      <td>9.240875</td>\n",
       "      <td>9.694822</td>\n",
       "    </tr>\n",
       "    <tr>\n",
       "      <th>3</th>\n",
       "      <td>acceleration</td>\n",
       "      <td>1510229987075</td>\n",
       "      <td>-0.603714</td>\n",
       "      <td>2.852142</td>\n",
       "      <td>9.366501</td>\n",
       "      <td>9.809715</td>\n",
       "    </tr>\n",
       "  </tbody>\n",
       "</table>\n",
       "</div>"
      ],
      "text/plain": [
       "         sensor           time         x         y         z     total\n",
       "0  acceleration  1510229987055 -0.604904  2.676270  8.625931  9.051796\n",
       "1  acceleration  1510229987067 -0.592941  2.871277  9.240875  9.694822\n",
       "3  acceleration  1510229987075 -0.603714  2.852142  9.366501  9.809715"
      ]
     },
     "execution_count": 8,
     "metadata": {},
     "output_type": "execute_result"
    }
   ],
   "source": [
    "acceleration_df = dfs[trip_nr][\"sensor\"]\n",
    "acceleration_df = acceleration_df[acceleration_df[\"sensor\"]==\"acceleration\"]\n",
    "acceleration_df.head(3)"
   ]
  },
  {
   "cell_type": "markdown",
   "metadata": {},
   "source": [
    "Quick visualisation of the acceleration of one of my trips"
   ]
  },
  {
   "cell_type": "code",
   "execution_count": 9,
   "metadata": {
    "scrolled": false
   },
   "outputs": [
    {
     "data": {
      "image/png": "[encoded data removed]",
      "text/plain": [
       "<matplotlib.figure.Figure at 0x1645fe81eb8>"
      ]
     },
     "metadata": {},
     "output_type": "display_data"
    },
    {
     "data": {
      "image/png": "[encoded data removed]",
      "text/plain": [
       "<matplotlib.figure.Figure at 0x164604d33c8>"
      ]
     },
     "metadata": {},
     "output_type": "display_data"
    },
    {
     "data": {
      "image/png": "[encoded data removed]",
      "text/plain": [
       "<matplotlib.figure.Figure at 0x1646171ac88>"
      ]
     },
     "metadata": {},
     "output_type": "display_data"
    }
   ],
   "source": [
    "small = acceleration_df.drop([\"sensor\",\"total\"],axis=1).set_index(\"time\")\n",
    "figsize=(12, 4)\n",
    "small[\"x\"].plot(figsize=figsize);\n",
    "plt.ylabel(\"x\")\n",
    "plt.show();\n",
    "\n",
    "small[\"y\"].plot(figsize=figsize);\n",
    "plt.ylabel(\"y\")\n",
    "plt.show();\n",
    "\n",
    "small[\"z\"].plot(figsize=figsize);\n",
    "plt.ylabel(\"z\")\n",
    "plt.show();\n",
    "\n"
   ]
  },
  {
   "cell_type": "markdown",
   "metadata": {},
   "source": [
    "Plot the gps data on a google map and save it as html to disk:"
   ]
  },
  {
   "cell_type": "code",
   "execution_count": 10,
   "metadata": {
    "collapsed": true
   },
   "outputs": [],
   "source": [
    "location_df = dfs[trip_nr][\"location\"]\n",
    "file_name = \"gps_test.html\"\n",
    "plot_track(location_df[[\"longitude\", \"latitude\"]], file_name)"
   ]
  },
  {
   "cell_type": "markdown",
   "metadata": {},
   "source": [
    "The track can now be viewed at:\n"
   ]
  },
  {
   "cell_type": "code",
   "execution_count": 11,
   "metadata": {},
   "outputs": [
    {
     "data": {
      "text/plain": [
       "'reports\\\\maps\\\\gps_test.html'"
      ]
     },
     "execution_count": 11,
     "metadata": {},
     "output_type": "execute_result"
    }
   ],
   "source": [
    "os.path.join(\"reports\",\"maps\",file_name)"
   ]
  }
 ],
 "metadata": {
  "kernelspec": {
   "display_name": "Python [conda env:Tensorflow]",
   "language": "python",
   "name": "conda-env-Tensorflow-py"
  },
  "language_info": {
   "codemirror_mode": {
    "name": "ipython",
    "version": 3
   },
   "file_extension": ".py",
   "mimetype": "text/x-python",
   "name": "python",
   "nbconvert_exporter": "python",
   "pygments_lexer": "ipython3",
   "version": "3.5.4"
  }
 },
 "nbformat": 4,
 "nbformat_minor": 2
}
