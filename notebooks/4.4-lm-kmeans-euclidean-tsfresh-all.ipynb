{
 "cells": [
  {
   "cell_type": "markdown",
   "metadata": {},
   "source": [
    "# Time Series Clustering with K-Means and Euclidean distance for features engineered from individual columns (x, y, z)\n",
    "\n",
    "\n",
    "----\n",
    "**Specification of experiment:**\n",
    "- scripted trips only\n",
    "- n2 column of acceleration data was used\n",
    "- Dynamic Time Warping with L1 Norm was calculated\n",
    "\n",
    "-----\n",
    "**Results:**\n",
    "\n",
    "1) KMeans Clustering with 3 Clusters:\n",
    "\n",
    "\n",
    "    Estimated number of clusters: 3\n",
    "\n",
    "    True number of clusters: 3*\n",
    "\n",
    "    Homogeneity: 0.700\n",
    "\n",
    "    Completeness: 0.510\n",
    "\n",
    "    V-measure: 0.590\n",
    "\n",
    "    Adjusted MI: 0.509\n",
    "\n",
    "    Silhouette Coefficient: 0.854\n",
    "\n",
    "\n",
    "*Assume that transport modes are true clusters"
   ]
  },
  {
   "cell_type": "code",
   "execution_count": 2,
   "metadata": {},
   "outputs": [
    {
     "name": "stdout",
     "output_type": "stream",
     "text": [
      "The autoreload extension is already loaded. To reload it, use:\n",
      "  %reload_ext autoreload\n"
     ]
    }
   ],
   "source": [
    "# Load the \"autoreload\" extension\n",
    "%load_ext autoreload\n",
    "\n",
    "# always reload modules marked with \"%aimport\"\n",
    "%autoreload 1\n",
    "\n",
    "import os\n",
    "import sys\n",
    "from dotenv import load_dotenv, find_dotenv\n",
    "import numpy as np\n",
    "import pandas as pd\n",
    "from sklearn.preprocessing import scale\n",
    "from sklearn.preprocessing import normalize\n",
    "from scipy.spatial.distance import cdist\n",
    "#Visualisation Libraries\n",
    "%matplotlib inline\n",
    "# Uncomment if you want interactive 3D plots --> does not work in the github rendering\n",
    "#%matplotlib notebook\n",
    "from copy import deepcopy\n",
    "\n",
    "import matplotlib\n",
    "import matplotlib.pyplot as plt\n",
    "from mpl_toolkits.mplot3d import Axes3D\n",
    "matplotlib.style.use('ggplot')\n",
    "import seaborn as sns\n",
    "import tsfresh\n",
    "\n",
    "from IPython.display import display_markdown\n",
    "\n",
    "# add the 'src' directory as one where we can import modules\n",
    "src_dir = os.path.join(os.getcwd(), os.pardir, 'src')\n",
    "sys.path.append(src_dir)\n",
    "\n",
    "%aimport visualization.visualize\n",
    "from visualization.visualize import get_color_encoding\n",
    "from visualization.visualize import plot_timeseries_clustering\n",
    "from visualization.visualize import get_plot_timeseries_clustering_variables\n",
    "from visualization.visualize import get_distribution_of_cluster_labels_for\n",
    "from visualization.visualize import plot_distribution_of_cluster_labels_for_target\n",
    "from visualization.visualize import plot_all_trips_with_cluster_coloring\n",
    "from visualization.visualize import plot_2D_tsne_with_coloring_per_targets\n",
    "from visualization.visualize import plot_3D\n",
    "\n",
    "\n",
    "\n",
    "\n",
    "%aimport data.preprocessing\n",
    "from data.preprocessing import Preprocessor\n",
    "%aimport data.download\n",
    "from data.download import DatasetDownloader\n",
    "%aimport utils.utilities\n",
    "from utils.utilities import get_cluster_labels\n",
    "%aimport features.build_features\n",
    "from features.build_features import calculate_maximum_break_length\n",
    "from features.build_features import calculate_maximum_acceleration_length\n",
    "#from features.build_features import engineer_features_with_tsfresh\n",
    "%aimport models.cluster\n",
    "from models.cluster import get_clustering_performance"
   ]
  },
  {
   "cell_type": "code",
   "execution_count": 3,
   "metadata": {},
   "outputs": [],
   "source": [
    "# Set to true if all trips should be plotted at the end\n",
    "plot_all_trips = False\n",
    "\n",
    "data_dir = os.path.join(os.path.abspath(DatasetDownloader.get_data_dir()))\n",
    "file_path = os.path.join(data_dir, \"preprocessed\",\"preprocessed_data.dat\")\n",
    "\n",
    "dfs = Preprocessor.restore_preprocessed_data_from_disk(file_path)"
   ]
  },
  {
   "cell_type": "markdown",
   "metadata": {},
   "source": [
    "Start with scripted trips."
   ]
  },
  {
   "cell_type": "code",
   "execution_count": 4,
   "metadata": {
    "scrolled": true
   },
   "outputs": [
    {
     "name": "stdout",
     "output_type": "stream",
     "text": [
      "    snippet_0 snippet_1 snippet_2 snippet_3 snippet_4 snippet_5 snippet_6  \\\n",
      "0     14.2253   13.5881     10.69   7.73972   4.89432   2.43717   4.87006   \n",
      "1     12.4412   16.9083   9.27941    16.087   4.83314   14.3418   8.86641   \n",
      "2     5.94813    10.333   13.3339   5.67077   8.51675   8.52197   8.28837   \n",
      "3     3.81258   4.64708   6.29619   13.4666   15.4711   9.92297   11.8565   \n",
      "4     12.5063   10.9826   10.1726   7.40962   4.84207   3.83804    4.4331   \n",
      "5     14.1234   13.0369   11.3874   14.9609   12.5907    8.1907    6.2167   \n",
      "6     7.14345    9.0008   7.95653   10.2334   11.7463   12.2507   13.6629   \n",
      "7     8.28359   12.1244   8.88677   6.91443    8.2433   7.03717   9.06043   \n",
      "8     13.4902   11.0228   12.2218   13.5984   9.31819   5.90673   2.62495   \n",
      "9     16.1567   11.5098   12.3914   11.7756   12.0754   6.50454   8.01176   \n",
      "10    7.75874   5.92339   2.85814   4.37035   7.96436   13.3492   14.5223   \n",
      "11    8.12795    7.9683   8.91671   10.5352   12.9422   12.0225   11.6223   \n",
      "12    3.21643   14.7809   6.62941    7.5196   8.71542   8.71054   9.11746   \n",
      "13    7.27629    15.601   14.7996   8.51486   14.4276   4.13896   17.2693   \n",
      "14    10.4246   13.3695   12.6111   8.47666   3.61329   4.09007    6.8041   \n",
      "15    8.84838   5.45719    5.2969   4.73445   8.82114   13.4434   9.98355   \n",
      "16    11.4156   12.2536    10.706   12.9265   11.1218   9.00666   6.73135   \n",
      "17    9.66942   9.67932   9.67469   9.67506   9.68994    9.6934   9.68099   \n",
      "18    9.67968   9.66213   9.72055    9.6541   9.67539   9.70158    9.6878   \n",
      "19    9.69059   9.79845    9.4956   9.68226   9.68448     9.753   9.69353   \n",
      "20    9.69515   9.70618   9.70166   9.70355   9.69948   9.68629    9.7061   \n",
      "21    9.74425     9.866   9.68707    9.8093   9.72931   9.55406   9.72462   \n",
      "22    9.68251   9.69706   9.67534   9.67758   9.71571   9.70378   9.71165   \n",
      "23    9.58691   9.67482   9.70984   9.68645   9.68644   9.55615   9.86205   \n",
      "24    9.81442   9.65538   9.74698   9.67634   9.65131   9.56502   9.70794   \n",
      "25     9.7123    9.7682   9.72846   9.68083   9.66905   9.60767   9.64538   \n",
      "26    9.69963   9.69566   9.70039   9.68749   9.69537   9.69256   9.70279   \n",
      "27     9.7524   9.60419   9.58565   9.66712   9.66548     9.692   9.59692   \n",
      "28    9.79706   10.0167     9.644   9.54216   9.77054    9.4882   9.71203   \n",
      "29    9.70614   9.70545   9.69063   9.72058    9.7038   9.70613   9.71797   \n",
      "..        ...       ...       ...       ...       ...       ...       ...   \n",
      "881   9.32801   9.35234   9.51241   9.52672   9.83267   10.1507   10.0341   \n",
      "882   9.70288   9.69021   9.74025   9.72121   9.73965    9.7607   9.73071   \n",
      "883   9.70902   9.88627   9.99572   9.90252   9.80571   9.82711   9.65739   \n",
      "884    9.5649   9.54842   9.69004   9.60634    9.8087   9.75537   9.79941   \n",
      "885   9.73932   9.71243   9.78611   9.77387     9.755    9.7562   9.75863   \n",
      "886   9.92044   9.88962   9.88827   9.73461   9.89294   9.80196   9.82912   \n",
      "887   9.94742   9.73943     9.691   9.80104   9.63866   9.52577   9.69023   \n",
      "888   8.23255   10.5273   10.4896   9.98391   9.49691   10.2726   10.1013   \n",
      "889   9.81544      9.98   9.85964   10.0107     9.943   9.83511   9.69587   \n",
      "890   9.33241   9.18728    9.4232   9.48874   9.44609   9.30042   9.28943   \n",
      "891    9.4242   9.42811   9.41967   9.40322   9.41675   9.42216   9.42917   \n",
      "892   9.42912   9.42099   9.42345   9.41536   9.42398   9.40439   9.41373   \n",
      "893    9.4348    9.3764   9.40898    9.3898   9.41947   9.51325   9.47162   \n",
      "894   9.44578    9.3688    9.4385   9.46577   9.38672   9.33066   9.40334   \n",
      "895   9.41952   9.40109   9.42013   9.40929   9.42141    9.4054   9.39719   \n",
      "896    9.4604   9.28304   9.30183   9.37989   9.42258   9.41261   9.46245   \n",
      "897   9.39189    9.3966   9.40108   9.39609   9.39299   9.39654   9.39539   \n",
      "898   9.39079   9.35682   9.32998    9.4767   9.35164   9.41656   9.32303   \n",
      "899   9.36763   9.38897    9.4026   9.39788   9.36329   9.40293   9.38927   \n",
      "900   9.36092   9.41267   9.38588   9.43398   9.34118   9.36726   9.36701   \n",
      "901   9.39571   9.33816   9.38218   9.38879    9.3601   9.41099   9.34509   \n",
      "902   9.70579    9.4738    9.2748   9.26351   9.25097   9.25382   9.05878   \n",
      "903   9.36908   9.35162   9.38058   9.35646    9.3607   9.36758   9.38461   \n",
      "904    9.4856   9.48501   9.48442   9.48383   9.48324   9.48266   9.48208   \n",
      "905   9.52693   9.52727    9.5276   9.52794   9.52827   9.52861   9.52894   \n",
      "906   9.34103    9.3434   9.34577   9.34814   9.35052    9.3529   9.35528   \n",
      "907   9.36737   9.36753    9.3677   9.36786   9.36802   9.36819   9.36835   \n",
      "908   9.36688   9.36696   9.36705   9.36713   9.36722    9.3673   9.36739   \n",
      "909   9.37226   9.37214   9.37203   9.37191    9.3718   9.37168   9.37157   \n",
      "910   9.31415   9.31408     9.314   9.31392   9.31384   9.31377   9.31369   \n",
      "\n",
      "    snippet_7 snippet_8 snippet_9   ...   snippet_595 snippet_596 snippet_597  \\\n",
      "0     8.48569   14.5724   14.6473   ...       8.86976     4.61891     3.74582   \n",
      "1     6.68115   8.26005   8.41256   ...       5.83112     11.4389     17.0241   \n",
      "2     9.46429   11.6994     11.64   ...       10.4807     14.0835     11.1058   \n",
      "3     9.58237   12.4965   8.51918   ...       8.56279     9.82018     11.9289   \n",
      "4     9.87846   17.7918   10.2136   ...        6.3423      7.4872     7.41574   \n",
      "5     3.49096   3.25677   7.09792   ...       13.1224     9.32783     9.15782   \n",
      "6     10.5055   14.4498   10.9444   ...       4.25876     12.9625      17.324   \n",
      "7     11.6861   12.4538   12.6313   ...       8.43339     7.03783     9.10953   \n",
      "8     3.07188    6.3111   15.6657   ...       5.85251      3.5647     4.04984   \n",
      "9     7.72076   8.81664   8.96639   ...       12.7697     12.8527     9.96295   \n",
      "10    8.81856   15.3423   4.22241   ...       12.8431     11.9318      11.331   \n",
      "11    12.7408   14.6014   9.22025   ...       7.44812     16.3281     12.8704   \n",
      "12    11.9247   12.8199   12.7378   ...        11.741     11.1881     4.56559   \n",
      "13    6.15553   7.28872   9.02301   ...       9.83895     9.04367     11.0946   \n",
      "14    8.79264   9.28535   13.5747   ...       11.0462     11.9161     11.2939   \n",
      "15    12.0046   5.25605   13.1103   ...       7.59009     8.23995     8.75474   \n",
      "16    4.49692   3.94969   6.86186   ...       16.0951     5.54337     8.48973   \n",
      "17    9.68085   9.68737   9.69061   ...       9.69374     9.67042     9.67785   \n",
      "18    9.67328   9.69479   9.65771   ...       9.70981     9.73324     9.54896   \n",
      "19    9.67636   9.61009   9.67445   ...       9.71096     9.69794     9.68969   \n",
      "20    9.70896    9.6941   9.69522   ...       9.64633     9.57358     9.61851   \n",
      "21    9.58562   9.55729    9.7165   ...         9.691     9.71442     9.67444   \n",
      "22    9.70958   9.68693   9.71098   ...       9.59567     9.78768     9.63083   \n",
      "23    9.60116   9.65702   9.74414   ...       9.76772     9.60107     9.58944   \n",
      "24    9.73964   9.69609   9.59426   ...       9.57932     9.70932     9.66421   \n",
      "25    9.68351   9.62675   9.76409   ...       9.70661     9.67929     9.70217   \n",
      "26    9.71639   9.70236    9.6998   ...       9.67995     9.70018     9.73564   \n",
      "27    9.78847   9.76483   9.76103   ...       9.52647     9.64347     9.80026   \n",
      "28    9.52538   9.97741   9.75523   ...       9.70886     9.69229     9.71058   \n",
      "29    9.70579   9.69169   9.71923   ...       9.70807      9.7487     9.65553   \n",
      "..        ...       ...       ...   ...           ...         ...         ...   \n",
      "881   9.90684   9.98207   9.80705   ...       9.83433     9.80662     9.76417   \n",
      "882    9.7717   9.78777   9.82399   ...       9.78378     9.60107     9.37993   \n",
      "883   9.73671   9.81178   10.0777   ...       9.82082     9.81093     9.70486   \n",
      "884   9.76227   9.70727   9.70458   ...       9.71224     9.68866     9.68933   \n",
      "885   9.69442   9.67604   9.66612   ...       9.65243      9.8421     9.94819   \n",
      "886   9.79665   9.81305   9.70414   ...       9.60663     9.62269     9.67684   \n",
      "887   9.56891   9.75642   9.93508   ...       8.73756     10.4705     9.59161   \n",
      "888   9.49646   9.49714   9.76323   ...       9.75383     9.39645     9.47996   \n",
      "889   9.58256   9.57417   9.59376   ...       9.72463      9.7305     9.56827   \n",
      "890   9.65468   9.24543    9.3026   ...       9.42563     9.42425     9.40359   \n",
      "891   9.42471   9.40272   9.42418   ...       9.42202       9.441     9.42779   \n",
      "892   9.43563   9.42298   9.44367   ...       9.35679     9.41245     9.41028   \n",
      "893    9.4487   9.38336   9.43464   ...       9.38427     9.41925      9.4162   \n",
      "894   9.43662   9.38401   9.39509   ...       9.38695     9.40803     9.42119   \n",
      "895   9.40905   9.42266   9.40428   ...       9.30368     9.25299     9.40964   \n",
      "896   9.43245   9.33709   9.39749   ...       9.36748     9.41064     9.41274   \n",
      "897   9.39712   9.39405   9.41675   ...       9.39953      9.4967     9.43844   \n",
      "898   9.33283   9.42083   9.37494   ...       9.38303      9.3838     9.37357   \n",
      "899   9.37345   9.39752   9.39246   ...        9.4379     9.39054     9.31604   \n",
      "900   9.39113   9.40915   9.41957   ...        9.3847     9.36033     9.38467   \n",
      "901   9.39594   9.38163   9.33406   ...       9.00919     8.81343     9.34452   \n",
      "902   9.02586   9.25564   9.61021   ...       9.35392     9.36298      9.3604   \n",
      "903   9.36794   9.37257   9.35709   ...       9.48861       9.488      9.4874   \n",
      "904    9.4815   9.48092   9.48034   ...       9.52526     9.52559     9.52593   \n",
      "905   9.52928   9.52961   9.52995   ...       9.32923     9.33158     9.33394   \n",
      "906   9.35767   9.36006   9.36245   ...       9.36654     9.36671     9.36687   \n",
      "907   9.36852   9.36868   9.36885   ...       9.36646     9.36654     9.36663   \n",
      "908   9.36747   9.36756   9.36764   ...       9.37284     9.37272     9.37261   \n",
      "909   9.37145   9.37133   9.37122   ...       9.31454     9.31447     9.31439   \n",
      "910   9.31361   9.31354   9.31346   ...       9.36273     9.36307     9.36341   \n",
      "\n",
      "    snippet_598 snippet_599   mode      notes scripted            token  \\\n",
      "0       4.11051     6.85032   WALK   scripted        1  355007075245007   \n",
      "1       8.25231     12.8234   WALK   scripted        1  355007075245007   \n",
      "2       8.11536      5.4948   WALK   scripted        1  355007075245007   \n",
      "3       13.0413     12.5974   WALK   scripted        1  355007075245007   \n",
      "4       8.55852      10.612   WALK   scripted        1  355007075245007   \n",
      "5       13.3515     6.06683   WALK   scripted        1  355007075245007   \n",
      "6       10.3388     10.6902   WALK   scripted        1  355007075245007   \n",
      "7       11.4815     13.7494   WALK   scripted        1  355007075245007   \n",
      "8       5.97034     13.3628   WALK   scripted        1  355007075245007   \n",
      "9       13.5743      11.189   WALK   scripted        1  355007075245007   \n",
      "10      7.87859     7.52344   WALK   scripted        1  355007075245007   \n",
      "11      6.15146     13.5789   WALK   scripted        1  355007075245007   \n",
      "12      3.09715     4.11376   WALK   scripted        1  355007075245007   \n",
      "13      11.0778     10.3503   WALK   scripted        1  355007075245007   \n",
      "14      13.0941      9.7454   WALK   scripted        1  355007075245007   \n",
      "15      9.19329     10.7108   WALK   scripted        1  355007075245007   \n",
      "16      8.29023     8.37132   WALK   scripted        1  355007075245007   \n",
      "17      9.65861     9.69366   TRAM  scripted         1  355007075245007   \n",
      "18      9.85215     9.55554   TRAM  scripted         1  355007075245007   \n",
      "19      9.68769     9.69849   TRAM  scripted         1  355007075245007   \n",
      "20      9.73968     9.60367   TRAM  scripted         1  355007075245007   \n",
      "21      9.70191     9.71269   TRAM  scripted         1  355007075245007   \n",
      "22      9.66668     9.77996   TRAM  scripted         1  355007075245007   \n",
      "23      9.68351       9.691   TRAM  scripted         1  355007075245007   \n",
      "24       9.6545     9.76945   TRAM  scripted         1  355007075245007   \n",
      "25       9.6798     9.69322   TRAM  scripted         1  355007075245007   \n",
      "26      9.71793     9.65129   TRAM  scripted         1  355007075245007   \n",
      "27      9.76162     9.74967   TRAM  scripted         1  355007075245007   \n",
      "28      9.71091     9.71266   TRAM  scripted         1  355007075245007   \n",
      "29      9.64164     9.56074   TRAM  scripted         1  355007075245007   \n",
      "..          ...         ...    ...        ...      ...              ...   \n",
      "881     9.73888     9.71878  METRO   scripted        1  868049020858898   \n",
      "882     9.84152     10.0401  METRO   scripted        1  868049020858898   \n",
      "883     9.61221     9.74831  METRO   scripted        1  868049020858898   \n",
      "884     9.69525      9.7276  METRO   scripted        1  868049020858898   \n",
      "885      9.8443     9.89991  METRO   scripted        1  868049020858898   \n",
      "886     9.65826     9.62175  METRO   scripted        1  868049020858898   \n",
      "887     11.0243     7.91273  METRO   scripted        1  868049020858898   \n",
      "888     9.50338     9.56097  METRO   scripted        1  868049020858898   \n",
      "889     9.71855     9.53248  METRO   scripted        1  868049020858898   \n",
      "890     9.42415     9.43171   TRAM   scripted        1  868049020858898   \n",
      "891     9.43809     9.42898   TRAM   scripted        1  868049020858898   \n",
      "892     9.47473     9.54274   TRAM   scripted        1  868049020858898   \n",
      "893     9.41302     9.42094   TRAM   scripted        1  868049020858898   \n",
      "894     9.41572     9.40375   TRAM   scripted        1  868049020858898   \n",
      "895     9.52525     9.52132   TRAM   scripted        1  868049020858898   \n",
      "896     9.39036      9.4109   TRAM   scripted        1  868049020858898   \n",
      "897     9.30919     9.33763   TRAM   scripted        1  868049020858898   \n",
      "898       9.409     9.39481   TRAM   scripted        1  868049020858898   \n",
      "899     9.44218     9.40144   TRAM   scripted        1  868049020858898   \n",
      "900     9.38814     9.39987   TRAM   scripted        1  868049020858898   \n",
      "901     9.67665     9.76521   TRAM   scripted        1  868049020858898   \n",
      "902     9.36872     9.38198   TRAM   scripted        1  868049020858898   \n",
      "903      9.4868      9.4862   TRAM   scripted        1  868049020858898   \n",
      "904     9.52626      9.5266   TRAM   scripted        1  868049020858898   \n",
      "905      9.3363     9.33866   TRAM   scripted        1  868049020858898   \n",
      "906     9.36704      9.3672   TRAM   scripted        1  868049020858898   \n",
      "907     9.36671      9.3668   TRAM   scripted        1  868049020858898   \n",
      "908     9.37249     9.37238   TRAM   scripted        1  868049020858898   \n",
      "909     9.31431     9.31423   TRAM   scripted        1  868049020858898   \n",
      "910     9.36375      9.3641   TRAM   scripted        1  868049020858898   \n",
      "\n",
      "    trip_id  \n",
      "0         0  \n",
      "1         0  \n",
      "2         0  \n",
      "3         0  \n",
      "4         0  \n",
      "5         0  \n",
      "6         0  \n",
      "7         0  \n",
      "8         0  \n",
      "9         0  \n",
      "10        0  \n",
      "11        0  \n",
      "12        0  \n",
      "13        0  \n",
      "14        0  \n",
      "15        0  \n",
      "16        0  \n",
      "17        1  \n",
      "18        1  \n",
      "19        1  \n",
      "20        1  \n",
      "21        1  \n",
      "22        1  \n",
      "23        1  \n",
      "24        1  \n",
      "25        1  \n",
      "26        1  \n",
      "27        1  \n",
      "28        1  \n",
      "29        1  \n",
      "..      ...  \n",
      "881      92  \n",
      "882      92  \n",
      "883      92  \n",
      "884      92  \n",
      "885      92  \n",
      "886      92  \n",
      "887      92  \n",
      "888      92  \n",
      "889      92  \n",
      "890      93  \n",
      "891      93  \n",
      "892      93  \n",
      "893      93  \n",
      "894      93  \n",
      "895      93  \n",
      "896      93  \n",
      "897      93  \n",
      "898      93  \n",
      "899      93  \n",
      "900      93  \n",
      "901      93  \n",
      "902      93  \n",
      "903      93  \n",
      "904      93  \n",
      "905      93  \n",
      "906      93  \n",
      "907      93  \n",
      "908      93  \n",
      "909      93  \n",
      "910      93  \n",
      "\n",
      "[911 rows x 605 columns]\n"
     ]
    }
   ],
   "source": [
    "categorical_columns = [\"mode\",\"notes\",\"scripted\",\"token\",\"trip_id\"]\n",
    "\n",
    "trips_cut_per_30_sec = Preprocessor.get_cut_trip_snippets_for_targets(dfs,[\"total\"])[0]\n",
    "scripted_trips_only = trips_cut_per_30_sec[trips_cut_per_30_sec[\"scripted\"] == 1]\n",
    "scripted_trips_only = scripted_trips_only.reset_index(drop=True)\n",
    "\n",
    "print(scripted_trips_only)"
   ]
  },
  {
   "cell_type": "markdown",
   "metadata": {},
   "source": [
    "Prepare trip dataframe for tsfresh."
   ]
  },
  {
   "cell_type": "code",
   "execution_count": 5,
   "metadata": {},
   "outputs": [],
   "source": [
    "# Drop categorical columns.\n",
    "df = scripted_trips_only\n",
    "df = df.drop(categorical_columns,axis=1)\n",
    "\n",
    "# Stack dataframe so that it can be parsed by tsfresh.\n",
    "df = pd.DataFrame(df.stack(), columns=['value'])\n",
    "\n",
    "# Copy indices into columns.\n",
    "df = df.reset_index()\n",
    "\n",
    "# Rename columns.\n",
    "df.columns = ['snippet_id', 'snippet_time', 'value']\n",
    "\n",
    "# Cast values to numeric attributes.\n",
    "df['value'] = pd.to_numeric(df['value'])"
   ]
  },
  {
   "cell_type": "markdown",
   "metadata": {},
   "source": [
    "### Choose which features to use"
   ]
  },
  {
   "cell_type": "markdown",
   "metadata": {
    "collapsed": true
   },
   "source": [
    "Use `tsfresh` to find relevant features (with default settings)."
   ]
  },
  {
   "cell_type": "code",
   "execution_count": 6,
   "metadata": {},
   "outputs": [
    {
     "name": "stderr",
     "output_type": "stream",
     "text": [
      "Feature Extraction: 100%|██████████| 10/10 [07:05<00:00, 42.55s/it]\n"
     ]
    }
   ],
   "source": [
    "extraction_settings = tsfresh.feature_extraction.ComprehensiveFCParameters()\n",
    "extracted_features = tsfresh.extract_features(\n",
    "    df, \n",
    "    column_id=\"snippet_id\", \n",
    "    column_sort=\"snippet_time\",\n",
    "    impute_function=tsfresh.utilities.dataframe_functions.impute)"
   ]
  },
  {
   "cell_type": "code",
   "execution_count": 7,
   "metadata": {},
   "outputs": [
    {
     "name": "stderr",
     "output_type": "stream",
     "text": [
      "WARNING:tsfresh.feature_selection.relevance:Infered classification as machine learning task\n",
      "WARNING:tsfresh.feature_selection.relevance:[test_feature_significance] Feature value__change_quantiles__f_agg_\"mean\"__isabs_True__qh_0.2__ql_0.2 is constant\n",
      "WARNING:tsfresh.feature_selection.relevance:[test_feature_significance] Feature value__change_quantiles__f_agg_\"mean\"__isabs_True__qh_0.2__ql_0.4 is constant\n",
      "WARNING:tsfresh.feature_selection.relevance:[test_feature_significance] Feature value__change_quantiles__f_agg_\"mean\"__isabs_True__qh_0.2__ql_0.6 is constant\n",
      "WARNING:tsfresh.feature_selection.relevance:[test_feature_significance] Feature value__change_quantiles__f_agg_\"mean\"__isabs_True__qh_0.2__ql_0.8 is constant\n",
      "WARNING:tsfresh.feature_selection.relevance:[test_feature_significance] Feature value__change_quantiles__f_agg_\"mean\"__isabs_True__qh_0.4__ql_0.4 is constant\n",
      "WARNING:tsfresh.feature_selection.relevance:[test_feature_significance] Feature value__change_quantiles__f_agg_\"mean\"__isabs_True__qh_0.4__ql_0.6 is constant\n",
      "WARNING:tsfresh.feature_selection.relevance:[test_feature_significance] Feature value__change_quantiles__f_agg_\"mean\"__isabs_True__qh_0.4__ql_0.8 is constant\n",
      "WARNING:tsfresh.feature_selection.relevance:[test_feature_significance] Feature value__change_quantiles__f_agg_\"mean\"__isabs_True__qh_0.6__ql_0.6 is constant\n",
      "WARNING:tsfresh.feature_selection.relevance:[test_feature_significance] Feature value__change_quantiles__f_agg_\"mean\"__isabs_True__qh_0.6__ql_0.8 is constant\n",
      "WARNING:tsfresh.feature_selection.relevance:[test_feature_significance] Feature value__change_quantiles__f_agg_\"mean\"__isabs_True__qh_0.8__ql_0.8 is constant\n",
      "WARNING:tsfresh.feature_selection.relevance:[test_feature_significance] Feature value__change_quantiles__f_agg_\"mean\"__isabs_False__qh_0.2__ql_0.2 is constant\n",
      "WARNING:tsfresh.feature_selection.relevance:[test_feature_significance] Feature value__change_quantiles__f_agg_\"mean\"__isabs_False__qh_0.2__ql_0.4 is constant\n",
      "WARNING:tsfresh.feature_selection.relevance:[test_feature_significance] Feature value__change_quantiles__f_agg_\"mean\"__isabs_False__qh_0.2__ql_0.6 is constant\n",
      "WARNING:tsfresh.feature_selection.relevance:[test_feature_significance] Feature value__change_quantiles__f_agg_\"var\"__isabs_False__qh_0.2__ql_0.2 is constant\n",
      "WARNING:tsfresh.feature_selection.relevance:[test_feature_significance] Feature value__change_quantiles__f_agg_\"mean\"__isabs_False__qh_0.2__ql_0.8 is constant\n",
      "WARNING:tsfresh.feature_selection.relevance:[test_feature_significance] Feature value__change_quantiles__f_agg_\"mean\"__isabs_False__qh_0.4__ql_0.4 is constant\n",
      "WARNING:tsfresh.feature_selection.relevance:[test_feature_significance] Feature value__change_quantiles__f_agg_\"mean\"__isabs_False__qh_0.4__ql_0.6 is constant\n",
      "WARNING:tsfresh.feature_selection.relevance:[test_feature_significance] Feature value__change_quantiles__f_agg_\"mean\"__isabs_False__qh_0.4__ql_0.8 is constant\n",
      "WARNING:tsfresh.feature_selection.relevance:[test_feature_significance] Feature value__change_quantiles__f_agg_\"mean\"__isabs_False__qh_0.6__ql_0.6 is constant\n",
      "WARNING:tsfresh.feature_selection.relevance:[test_feature_significance] Feature value__change_quantiles__f_agg_\"mean\"__isabs_False__qh_0.6__ql_0.8 is constant\n",
      "WARNING:tsfresh.feature_selection.relevance:[test_feature_significance] Feature value__change_quantiles__f_agg_\"mean\"__isabs_False__qh_0.8__ql_0.8 is constant\n",
      "WARNING:tsfresh.feature_selection.relevance:[test_feature_significance] Feature value__change_quantiles__f_agg_\"var\"__isabs_False__qh_0.2__ql_0.4 is constant\n",
      "WARNING:tsfresh.feature_selection.relevance:[test_feature_significance] Feature value__change_quantiles__f_agg_\"var\"__isabs_False__qh_0.2__ql_0.6 is constant\n",
      "WARNING:tsfresh.feature_selection.relevance:[test_feature_significance] Feature value__change_quantiles__f_agg_\"var\"__isabs_False__qh_0.2__ql_0.8 is constant\n",
      "WARNING:tsfresh.feature_selection.relevance:[test_feature_significance] Feature value__change_quantiles__f_agg_\"var\"__isabs_False__qh_0.4__ql_0.4 is constant\n",
      "WARNING:tsfresh.feature_selection.relevance:[test_feature_significance] Feature value__change_quantiles__f_agg_\"var\"__isabs_False__qh_0.4__ql_0.6 is constant\n",
      "WARNING:tsfresh.feature_selection.relevance:[test_feature_significance] Feature value__change_quantiles__f_agg_\"var\"__isabs_False__qh_0.4__ql_0.8 is constant\n",
      "WARNING:tsfresh.feature_selection.relevance:[test_feature_significance] Feature value__change_quantiles__f_agg_\"var\"__isabs_False__qh_0.6__ql_0.6 is constant\n",
      "WARNING:tsfresh.feature_selection.relevance:[test_feature_significance] Feature value__change_quantiles__f_agg_\"var\"__isabs_False__qh_0.6__ql_0.8 is constant\n",
      "WARNING:tsfresh.feature_selection.relevance:[test_feature_significance] Feature value__change_quantiles__f_agg_\"var\"__isabs_False__qh_0.8__ql_0.8 is constant\n",
      "WARNING:tsfresh.feature_selection.relevance:[test_feature_significance] Feature value__change_quantiles__f_agg_\"var\"__isabs_True__qh_0.2__ql_0.2 is constant\n",
      "WARNING:tsfresh.feature_selection.relevance:[test_feature_significance] Feature value__change_quantiles__f_agg_\"var\"__isabs_True__qh_0.2__ql_0.4 is constant\n",
      "WARNING:tsfresh.feature_selection.relevance:[test_feature_significance] Feature value__change_quantiles__f_agg_\"var\"__isabs_True__qh_0.2__ql_0.6 is constant\n",
      "WARNING:tsfresh.feature_selection.relevance:[test_feature_significance] Feature value__fft_coefficient__coeff_0__attr_\"angle\" is constant\n",
      "WARNING:tsfresh.feature_selection.relevance:[test_feature_significance] Feature value__change_quantiles__f_agg_\"var\"__isabs_True__qh_0.2__ql_0.8 is constant\n",
      "WARNING:tsfresh.feature_selection.relevance:[test_feature_significance] Feature value__change_quantiles__f_agg_\"var\"__isabs_True__qh_0.4__ql_0.4 is constant\n",
      "WARNING:tsfresh.feature_selection.relevance:[test_feature_significance] Feature value__fft_coefficient__coeff_0__attr_\"imag\" is constant\n",
      "WARNING:tsfresh.feature_selection.relevance:[test_feature_significance] Feature value__change_quantiles__f_agg_\"var\"__isabs_True__qh_0.4__ql_0.6 is constant\n",
      "WARNING:tsfresh.feature_selection.relevance:[test_feature_significance] Feature value__change_quantiles__f_agg_\"var\"__isabs_True__qh_0.4__ql_0.8 is constant\n",
      "WARNING:tsfresh.feature_selection.relevance:[test_feature_significance] Feature value__change_quantiles__f_agg_\"var\"__isabs_True__qh_0.6__ql_0.6 is constant\n",
      "WARNING:tsfresh.feature_selection.relevance:[test_feature_significance] Feature value__change_quantiles__f_agg_\"var\"__isabs_True__qh_0.8__ql_0.8 is constant\n",
      "WARNING:tsfresh.feature_selection.relevance:[test_feature_significance] Feature value__change_quantiles__f_agg_\"var\"__isabs_True__qh_0.6__ql_0.8 is constant\n",
      "WARNING:tsfresh.feature_selection.relevance:[test_feature_significance] Feature value__has_duplicate_max is constant\n",
      "WARNING:tsfresh.feature_selection.relevance:[test_feature_significance] Feature value__has_duplicate_min is constant\n",
      "WARNING:tsfresh.feature_selection.relevance:[test_feature_significance] Feature value__large_standard_deviation__r_0.30000000000000004 is constant\n",
      "WARNING:tsfresh.feature_selection.relevance:[test_feature_significance] Feature value__large_standard_deviation__r_0.35000000000000003 is constant\n",
      "WARNING:tsfresh.feature_selection.relevance:[test_feature_significance] Feature value__large_standard_deviation__r_0.4 is constant\n",
      "WARNING:tsfresh.feature_selection.relevance:[test_feature_significance] Feature value__large_standard_deviation__r_0.45 is constant\n",
      "WARNING:tsfresh.feature_selection.relevance:[test_feature_significance] Feature value__large_standard_deviation__r_0.5 is constant\n",
      "WARNING:tsfresh.feature_selection.relevance:[test_feature_significance] Feature value__large_standard_deviation__r_0.55 is constant\n",
      "WARNING:tsfresh.feature_selection.relevance:[test_feature_significance] Feature value__large_standard_deviation__r_0.6000000000000001 is constant\n",
      "WARNING:tsfresh.feature_selection.relevance:[test_feature_significance] Feature value__large_standard_deviation__r_0.65 is constant\n",
      "WARNING:tsfresh.feature_selection.relevance:[test_feature_significance] Feature value__large_standard_deviation__r_0.7000000000000001 is constant\n",
      "WARNING:tsfresh.feature_selection.relevance:[test_feature_significance] Feature value__large_standard_deviation__r_0.75 is constant\n"
     ]
    },
    {
     "name": "stderr",
     "output_type": "stream",
     "text": [
      "WARNING:tsfresh.feature_selection.relevance:[test_feature_significance] Feature value__large_standard_deviation__r_0.8 is constant\n",
      "WARNING:tsfresh.feature_selection.relevance:[test_feature_significance] Feature value__number_crossing_m__m_-1 is constant\n",
      "WARNING:tsfresh.feature_selection.relevance:[test_feature_significance] Feature value__large_standard_deviation__r_0.8500000000000001 is constant\n",
      "WARNING:tsfresh.feature_selection.relevance:[test_feature_significance] Feature value__large_standard_deviation__r_0.9 is constant\n",
      "WARNING:tsfresh.feature_selection.relevance:[test_feature_significance] Feature value__large_standard_deviation__r_0.9500000000000001 is constant\n",
      "WARNING:tsfresh.feature_selection.relevance:[test_feature_significance] Feature value__length is constant\n",
      "WARNING:tsfresh.feature_selection.relevance:[test_feature_significance] Feature value__number_crossing_m__m_0 is constant\n",
      "WARNING:tsfresh.feature_selection.relevance:[test_feature_significance] Feature value__partial_autocorrelation__lag_0 is constant\n",
      "WARNING:tsfresh.feature_selection.relevance:[test_feature_significance] Feature value__symmetry_looking__r_0.0 is constant\n",
      "WARNING:tsfresh.feature_selection.relevance:[test_feature_significance] Feature value__symmetry_looking__r_0.15000000000000002 is constant\n",
      "WARNING:tsfresh.feature_selection.relevance:[test_feature_significance] Feature value__symmetry_looking__r_0.2 is constant\n",
      "WARNING:tsfresh.feature_selection.relevance:[test_feature_significance] Feature value__symmetry_looking__r_0.25 is constant\n",
      "WARNING:tsfresh.feature_selection.relevance:[test_feature_significance] Feature value__symmetry_looking__r_0.30000000000000004 is constant\n",
      "WARNING:tsfresh.feature_selection.relevance:[test_feature_significance] Feature value__symmetry_looking__r_0.35000000000000003 is constant\n",
      "WARNING:tsfresh.feature_selection.relevance:[test_feature_significance] Feature value__symmetry_looking__r_0.4 is constant\n",
      "WARNING:tsfresh.feature_selection.relevance:[test_feature_significance] Feature value__symmetry_looking__r_0.45 is constant\n",
      "WARNING:tsfresh.feature_selection.relevance:[test_feature_significance] Feature value__symmetry_looking__r_0.5 is constant\n",
      "WARNING:tsfresh.feature_selection.relevance:[test_feature_significance] Feature value__symmetry_looking__r_0.55 is constant\n",
      "WARNING:tsfresh.feature_selection.relevance:[test_feature_significance] Feature value__symmetry_looking__r_0.6000000000000001 is constant\n",
      "WARNING:tsfresh.feature_selection.relevance:[test_feature_significance] Feature value__symmetry_looking__r_0.65 is constant\n",
      "WARNING:tsfresh.feature_selection.relevance:[test_feature_significance] Feature value__symmetry_looking__r_0.7000000000000001 is constant\n",
      "WARNING:tsfresh.feature_selection.relevance:[test_feature_significance] Feature value__symmetry_looking__r_0.75 is constant\n",
      "WARNING:tsfresh.feature_selection.relevance:[test_feature_significance] Feature value__symmetry_looking__r_0.8 is constant\n",
      "WARNING:tsfresh.feature_selection.relevance:[test_feature_significance] Feature value__symmetry_looking__r_0.8500000000000001 is constant\n",
      "WARNING:tsfresh.feature_selection.relevance:[test_feature_significance] Feature value__symmetry_looking__r_0.9 is constant\n",
      "WARNING:tsfresh.feature_selection.relevance:[test_feature_significance] Feature value__symmetry_looking__r_0.9500000000000001 is constant\n",
      "WARNING:tsfresh.feature_selection.relevance:[test_feature_significance] Feature value__value_count__value_-inf is constant\n",
      "WARNING:tsfresh.feature_selection.relevance:[test_feature_significance] Feature value__value_count__value_0 is constant\n",
      "WARNING:tsfresh.feature_selection.relevance:[test_feature_significance] Feature value__value_count__value_1 is constant\n",
      "WARNING:tsfresh.feature_selection.relevance:[test_feature_significance] Feature value__value_count__value_inf is constant\n",
      "WARNING:tsfresh.feature_selection.relevance:[test_feature_significance] Feature value__value_count__value_nan is constant\n",
      "WARNING:tsfresh.feature_selection.significance_tests:[target_binary_feature_binary_test] A binary feature should have only values 1 and 0 (incl. True and False). Instead found {0.015, 0.016666666666666666} in feature ''value__percentage_of_reoccurring_values_to_all_values''.\n",
      "WARNING:tsfresh.feature_selection.significance_tests:[target_binary_feature_binary_test] A binary feature should have only values 1 and 0 (incl. True and False). Instead found {0.015, 0.016666666666666666} in feature ''value__percentage_of_reoccurring_values_to_all_values''.\n",
      "WARNING:tsfresh.feature_selection.significance_tests:[target_binary_feature_binary_test] A binary feature should have only values 1 and 0 (incl. True and False). Instead found {0.015, 0.016666666666666666} in feature ''value__percentage_of_reoccurring_values_to_all_values''.\n"
     ]
    },
    {
     "name": "stdout",
     "output_type": "stream",
     "text": [
      "<class 'pandas.core.frame.DataFrame'>\n",
      "Int64Index: 911 entries, 0 to 910\n",
      "Columns: 354 entries, value__variance_larger_than_standard_deviation to value__number_peaks__n_1\n",
      "dtypes: float64(354)\n",
      "memory usage: 2.5 MB\n",
      "None\n"
     ]
    }
   ],
   "source": [
    "# Run evaluation of features against baseline ground truth of three transport modes.\n",
    "# Note: n in ground truth has to correlate with number of IDs (in this case: Snippet ID), not with total number of samples (in this case: number of seconds).\n",
    "features_filtered = tsfresh.select_features(extracted_features, scripted_trips_only['mode'])\n",
    "print(features_filtered.info())"
   ]
  },
  {
   "cell_type": "code",
   "execution_count": 406,
   "metadata": {},
   "outputs": [
    {
     "data": {
      "text/html": [
       "<div>\n",
       "<style scoped>\n",
       "    .dataframe tbody tr th:only-of-type {\n",
       "        vertical-align: middle;\n",
       "    }\n",
       "\n",
       "    .dataframe tbody tr th {\n",
       "        vertical-align: top;\n",
       "    }\n",
       "\n",
       "    .dataframe thead th {\n",
       "        text-align: right;\n",
       "    }\n",
       "</style>\n",
       "<table border=\"1\" class=\"dataframe\">\n",
       "  <thead>\n",
       "    <tr style=\"text-align: right;\">\n",
       "      <th>variable</th>\n",
       "      <th>value__variance_larger_than_standard_deviation</th>\n",
       "      <th>value__change_quantiles__f_agg_\"mean\"__isabs_True__qh_1.0__ql_0.0</th>\n",
       "      <th>value__change_quantiles__f_agg_\"mean\"__isabs_True__qh_0.4__ql_0.0</th>\n",
       "      <th>value__mean_abs_change</th>\n",
       "      <th>value__absolute_sum_of_changes</th>\n",
       "      <th>value__change_quantiles__f_agg_\"var\"__isabs_False__qh_1.0__ql_0.2</th>\n",
       "      <th>value__change_quantiles__f_agg_\"var\"__isabs_True__qh_1.0__ql_0.2</th>\n",
       "      <th>value__cid_ce__normalize_False</th>\n",
       "      <th>value__change_quantiles__f_agg_\"var\"__isabs_False__qh_1.0__ql_0.0</th>\n",
       "      <th>value__change_quantiles__f_agg_\"mean\"__isabs_True__qh_1.0__ql_0.2</th>\n",
       "      <th>...</th>\n",
       "      <th>value__fft_coefficient__coeff_90__attr_\"imag\"</th>\n",
       "      <th>value__cwt_coefficients__widths_(2, 5, 10, 20)__coeff_0__w_20</th>\n",
       "      <th>value__fft_coefficient__coeff_94__attr_\"real\"</th>\n",
       "      <th>value__cwt_coefficients__widths_(2, 5, 10, 20)__coeff_5__w_5</th>\n",
       "      <th>value__cwt_coefficients__widths_(2, 5, 10, 20)__coeff_6__w_5</th>\n",
       "      <th>value__fft_coefficient__coeff_17__attr_\"real\"</th>\n",
       "      <th>value__approximate_entropy__m_2__r_0.3</th>\n",
       "      <th>value__fft_coefficient__coeff_50__attr_\"angle\"</th>\n",
       "      <th>value__approximate_entropy__m_2__r_0.1</th>\n",
       "      <th>value__number_peaks__n_1</th>\n",
       "    </tr>\n",
       "  </thead>\n",
       "  <tbody>\n",
       "    <tr>\n",
       "      <th>0</th>\n",
       "      <td>1.50119</td>\n",
       "      <td>1.35712</td>\n",
       "      <td>1.720980</td>\n",
       "      <td>1.35712</td>\n",
       "      <td>1.35712</td>\n",
       "      <td>0.807619</td>\n",
       "      <td>0.658225</td>\n",
       "      <td>1.246296</td>\n",
       "      <td>0.858579</td>\n",
       "      <td>1.359492</td>\n",
       "      <td>...</td>\n",
       "      <td>0.676458</td>\n",
       "      <td>1.591676</td>\n",
       "      <td>-1.505548</td>\n",
       "      <td>1.393980</td>\n",
       "      <td>0.679482</td>\n",
       "      <td>-0.120888</td>\n",
       "      <td>0.843401</td>\n",
       "      <td>-0.867714</td>\n",
       "      <td>0.357385</td>\n",
       "      <td>0.769661</td>\n",
       "    </tr>\n",
       "    <tr>\n",
       "      <th>1</th>\n",
       "      <td>1.50119</td>\n",
       "      <td>1.47485</td>\n",
       "      <td>1.839178</td>\n",
       "      <td>1.47485</td>\n",
       "      <td>1.47485</td>\n",
       "      <td>0.741975</td>\n",
       "      <td>0.617092</td>\n",
       "      <td>1.380813</td>\n",
       "      <td>1.064819</td>\n",
       "      <td>1.300020</td>\n",
       "      <td>...</td>\n",
       "      <td>-1.624437</td>\n",
       "      <td>0.163040</td>\n",
       "      <td>0.511402</td>\n",
       "      <td>-0.305717</td>\n",
       "      <td>-0.012998</td>\n",
       "      <td>-0.432619</td>\n",
       "      <td>0.888180</td>\n",
       "      <td>0.325043</td>\n",
       "      <td>0.084396</td>\n",
       "      <td>0.843137</td>\n",
       "    </tr>\n",
       "  </tbody>\n",
       "</table>\n",
       "<p>2 rows × 354 columns</p>\n",
       "</div>"
      ],
      "text/plain": [
       "variable  value__variance_larger_than_standard_deviation  \\\n",
       "0                                                1.50119   \n",
       "1                                                1.50119   \n",
       "\n",
       "variable  value__change_quantiles__f_agg_\"mean\"__isabs_True__qh_1.0__ql_0.0  \\\n",
       "0                                                   1.35712                   \n",
       "1                                                   1.47485                   \n",
       "\n",
       "variable  value__change_quantiles__f_agg_\"mean\"__isabs_True__qh_0.4__ql_0.0  \\\n",
       "0                                                  1.720980                   \n",
       "1                                                  1.839178                   \n",
       "\n",
       "variable  value__mean_abs_change  value__absolute_sum_of_changes  \\\n",
       "0                        1.35712                         1.35712   \n",
       "1                        1.47485                         1.47485   \n",
       "\n",
       "variable  value__change_quantiles__f_agg_\"var\"__isabs_False__qh_1.0__ql_0.2  \\\n",
       "0                                                  0.807619                   \n",
       "1                                                  0.741975                   \n",
       "\n",
       "variable  value__change_quantiles__f_agg_\"var\"__isabs_True__qh_1.0__ql_0.2  \\\n",
       "0                                                  0.658225                  \n",
       "1                                                  0.617092                  \n",
       "\n",
       "variable  value__cid_ce__normalize_False  \\\n",
       "0                               1.246296   \n",
       "1                               1.380813   \n",
       "\n",
       "variable  value__change_quantiles__f_agg_\"var\"__isabs_False__qh_1.0__ql_0.0  \\\n",
       "0                                                  0.858579                   \n",
       "1                                                  1.064819                   \n",
       "\n",
       "variable  value__change_quantiles__f_agg_\"mean\"__isabs_True__qh_1.0__ql_0.2  \\\n",
       "0                                                  1.359492                   \n",
       "1                                                  1.300020                   \n",
       "\n",
       "variable            ...             \\\n",
       "0                   ...              \n",
       "1                   ...              \n",
       "\n",
       "variable  value__fft_coefficient__coeff_90__attr_\"imag\"  \\\n",
       "0                                              0.676458   \n",
       "1                                             -1.624437   \n",
       "\n",
       "variable  value__cwt_coefficients__widths_(2, 5, 10, 20)__coeff_0__w_20  \\\n",
       "0                                                  1.591676               \n",
       "1                                                  0.163040               \n",
       "\n",
       "variable  value__fft_coefficient__coeff_94__attr_\"real\"  \\\n",
       "0                                             -1.505548   \n",
       "1                                              0.511402   \n",
       "\n",
       "variable  value__cwt_coefficients__widths_(2, 5, 10, 20)__coeff_5__w_5  \\\n",
       "0                                                  1.393980              \n",
       "1                                                 -0.305717              \n",
       "\n",
       "variable  value__cwt_coefficients__widths_(2, 5, 10, 20)__coeff_6__w_5  \\\n",
       "0                                                  0.679482              \n",
       "1                                                 -0.012998              \n",
       "\n",
       "variable  value__fft_coefficient__coeff_17__attr_\"real\"  \\\n",
       "0                                             -0.120888   \n",
       "1                                             -0.432619   \n",
       "\n",
       "variable  value__approximate_entropy__m_2__r_0.3  \\\n",
       "0                                       0.843401   \n",
       "1                                       0.888180   \n",
       "\n",
       "variable  value__fft_coefficient__coeff_50__attr_\"angle\"  \\\n",
       "0                                              -0.867714   \n",
       "1                                               0.325043   \n",
       "\n",
       "variable  value__approximate_entropy__m_2__r_0.1  value__number_peaks__n_1  \n",
       "0                                       0.357385                  0.769661  \n",
       "1                                       0.084396                  0.843137  \n",
       "\n",
       "[2 rows x 354 columns]"
      ]
     },
     "execution_count": 406,
     "metadata": {},
     "output_type": "execute_result"
    }
   ],
   "source": [
    "features_used = pd.DataFrame(scale(features_filtered),columns=features_filtered.columns)\n",
    "features_used.head(2)"
   ]
  },
  {
   "cell_type": "markdown",
   "metadata": {},
   "source": [
    "### Calculate distance matrix for trip snippets using engineered feature set."
   ]
  },
  {
   "cell_type": "code",
   "execution_count": 407,
   "metadata": {},
   "outputs": [],
   "source": [
    "# Calculate euclidean norm on standardized features.\n",
    "distance_matrix = pd.DataFrame(cdist(features_used, features_used, metric='sqeuclidean'))\n",
    "# Append metadata to distance matrix (each row corresponds to one trip snippet and its distances to other trip snippets).\n",
    "distance_matrix['mode'] = scripted_trips_only['mode']\n",
    "distance_matrix['token'] = scripted_trips_only['token']"
   ]
  },
  {
   "cell_type": "markdown",
   "metadata": {},
   "source": [
    "------\n",
    "# Model Building\n",
    "\n",
    "## Create Model with Clustering by KMeans"
   ]
  },
  {
   "cell_type": "markdown",
   "metadata": {},
   "source": [
    "Use summaries of each distance"
   ]
  },
  {
   "cell_type": "code",
   "execution_count": 408,
   "metadata": {},
   "outputs": [
    {
     "name": "stdout",
     "output_type": "stream",
     "text": [
      "Explained Variance Ratio: [  8.79127064e-01   9.07439689e-02   1.44718926e-02   7.21954051e-03\n",
      "   1.81382040e-03   1.58565388e-03   1.00417538e-03   7.02863047e-04\n",
      "   6.45132064e-04   3.59585756e-04   3.03480338e-04   2.04842501e-04\n",
      "   1.70261843e-04   1.57932717e-04   1.32066429e-04   1.21947265e-04\n",
      "   1.13832286e-04   7.45105181e-05   7.03583249e-05   6.13144637e-05]\n"
     ]
    },
    {
     "data": {
      "text/plain": [
       "Text(0.5,1,'Explained variance ratio of engineered features with PCA')"
      ]
     },
     "execution_count": 408,
     "metadata": {},
     "output_type": "execute_result"
    },
    {
     "data": {
      "image/png": "[encoded data removed]",
      "text/plain": [
       "<matplotlib.figure.Figure at 0x7fe4374d4d68>"
      ]
     },
     "metadata": {},
     "output_type": "display_data"
    }
   ],
   "source": [
    "from sklearn.decomposition import PCA\n",
    "\n",
    "n_components = 20\n",
    "pca = PCA(n_components=20)\n",
    "reduced = pd.DataFrame(pca.fit_transform(distance_matrix.drop(columns=[\"mode\", \"token\"])))\n",
    "#reduced = pd.DataFrame(pca.fit_transform(features_used))\n",
    "\n",
    "features_used = reduced\n",
    "print(\"Explained Variance Ratio:\",pca.explained_variance_ratio_)\n",
    "\n",
    "fig = plt.figure()\n",
    "ax = plt.subplot(111)\n",
    "ax.bar(np.arange(0, n_components), pca.explained_variance_ratio_)\n",
    "ax.set_title(\"Explained variance ratio of engineered features with PCA\")"
   ]
  },
  {
   "cell_type": "code",
   "execution_count": 409,
   "metadata": {},
   "outputs": [],
   "source": [
    "from sklearn.cluster import KMeans\n",
    "random_state = 0\n",
    "\n",
    "kmeans = KMeans(n_clusters=3, random_state=random_state).fit(distance_matrix.drop(columns=[\"mode\", \"token\"]))\n",
    "#kmeans = KMeans(n_clusters=3, random_state=random_state).fit(features_used)\n",
    "cluster_labels = kmeans.labels_\n",
    "distance_matrix[\"cluster_labels\"]=cluster_labels"
   ]
  },
  {
   "cell_type": "markdown",
   "metadata": {},
   "source": [
    "## Plot with PCA"
   ]
  },
  {
   "cell_type": "code",
   "execution_count": 410,
   "metadata": {},
   "outputs": [
    {
     "data": {
      "image/png": "[encoded data removed]",
      "text/plain": [
       "<matplotlib.figure.Figure at 0x7fe437545908>"
      ]
     },
     "metadata": {},
     "output_type": "display_data"
    }
   ],
   "source": [
    "colors,color_patches = get_color_encoding(cluster_labels)\n",
    "plot_3D(reduced.iloc[:,0],reduced.iloc[:,1],reduced.iloc[:,2], colors, color_patches,title=\"PCA Plot with cluster labels\")\n"
   ]
  },
  {
   "cell_type": "code",
   "execution_count": 411,
   "metadata": {},
   "outputs": [
    {
     "data": {
      "image/png": "[encoded data removed]",
      "text/plain": [
       "<matplotlib.figure.Figure at 0x7fe43c49b668>"
      ]
     },
     "metadata": {},
     "output_type": "display_data"
    }
   ],
   "source": [
    "colors,color_patches = get_color_encoding(distance_matrix[\"mode\"])\n",
    "plot_3D(reduced.iloc[:,0],reduced.iloc[:,1],reduced.iloc[:,2], colors, color_patches,title=\"PCA Plot with transport mode\")\n"
   ]
  },
  {
   "cell_type": "markdown",
   "metadata": {},
   "source": [
    "-----\n",
    "## Summary Statistics for KMeans Clustering:\n",
    "\n",
    "Here the performance is evaluated in regard to the \"true labels\" which here corresponds to the transport mode."
   ]
  },
  {
   "cell_type": "code",
   "execution_count": 412,
   "metadata": {},
   "outputs": [
    {
     "data": {
      "text/markdown": [
       " - Estimated number of clusters: 3"
      ]
     },
     "metadata": {},
     "output_type": "display_data"
    },
    {
     "data": {
      "text/markdown": [
       " - True number of clusters: 3"
      ]
     },
     "metadata": {},
     "output_type": "display_data"
    },
    {
     "data": {
      "text/markdown": [
       " - Homogeneity: 0.735"
      ]
     },
     "metadata": {},
     "output_type": "display_data"
    },
    {
     "data": {
      "text/markdown": [
       " - Completeness: 0.494"
      ]
     },
     "metadata": {},
     "output_type": "display_data"
    },
    {
     "data": {
      "text/markdown": [
       " - V-measure: 0.591"
      ]
     },
     "metadata": {},
     "output_type": "display_data"
    },
    {
     "data": {
      "text/markdown": [
       " - Adjusted MI: 0.493"
      ]
     },
     "metadata": {},
     "output_type": "display_data"
    },
    {
     "data": {
      "text/markdown": [
       " - Silhouette Coefficient: 0.781"
      ]
     },
     "metadata": {},
     "output_type": "display_data"
    }
   ],
   "source": [
    "cluster_performance = get_clustering_performance(#features_used,\n",
    "                                                 distance_matrix.drop(columns=[\"cluster_labels\", \"mode\", \"token\"]), \n",
    "                                                 cluster_labels,\n",
    "                                                 true_labels=distance_matrix[\"mode\"])\n",
    "for line in cluster_performance:\n",
    "    display_markdown(\" - {}\".format(line),raw=True)"
   ]
  },
  {
   "cell_type": "markdown",
   "metadata": {},
   "source": [
    "## Visualise Clustering on 2D - TSNE Plot:"
   ]
  },
  {
   "cell_type": "code",
   "execution_count": 413,
   "metadata": {
    "scrolled": true
   },
   "outputs": [],
   "source": [
    "#color_encodings = distance_matrix.loc[:,[\"cluster_labels\",\"mode\", \"token\"]]\n",
    "#pure_distance_matrix = distance_matrix.drop(columns=[\"cluster_labels\", \"mode\", \"token\"])\n",
    "\n",
    "#for learning_rate in [50, 100, 1000, 5000, 10000]:\n",
    "#    for perplexity in [5, 10, 25, 50, 75, 100]:\n",
    "#        plot_2D_tsne_with_coloring_per_targets(\n",
    "#            pure_distance_matrix, \n",
    "#            color_encodings, \n",
    "#            learning_rate=learning_rate,\n",
    "#            perplexity=perplexity\n",
    "#        )\n"
   ]
  },
  {
   "cell_type": "markdown",
   "metadata": {},
   "source": [
    "## Inspect the distribution of modes to cluster label for all trips\n",
    "\n",
    "From this we can see that it the clustering is not distinct between \"WALK\" and \"TRAM\""
   ]
  },
  {
   "cell_type": "code",
   "execution_count": 414,
   "metadata": {},
   "outputs": [
    {
     "data": {
      "text/html": [
       "<div>\n",
       "<style scoped>\n",
       "    .dataframe tbody tr th:only-of-type {\n",
       "        vertical-align: middle;\n",
       "    }\n",
       "\n",
       "    .dataframe tbody tr th {\n",
       "        vertical-align: top;\n",
       "    }\n",
       "\n",
       "    .dataframe thead th {\n",
       "        text-align: right;\n",
       "    }\n",
       "</style>\n",
       "<table border=\"1\" class=\"dataframe\">\n",
       "  <thead>\n",
       "    <tr style=\"text-align: right;\">\n",
       "      <th></th>\n",
       "      <th>count_cluster_0</th>\n",
       "      <th>count_cluster_1</th>\n",
       "      <th>count_cluster_2</th>\n",
       "      <th>mode</th>\n",
       "    </tr>\n",
       "  </thead>\n",
       "  <tbody>\n",
       "    <tr>\n",
       "      <th>0</th>\n",
       "      <td>229.0</td>\n",
       "      <td>40.0</td>\n",
       "      <td>13.0</td>\n",
       "      <td>WALK</td>\n",
       "    </tr>\n",
       "    <tr>\n",
       "      <th>1</th>\n",
       "      <td>0.0</td>\n",
       "      <td>0.0</td>\n",
       "      <td>328.0</td>\n",
       "      <td>TRAM</td>\n",
       "    </tr>\n",
       "    <tr>\n",
       "      <th>2</th>\n",
       "      <td>0.0</td>\n",
       "      <td>2.0</td>\n",
       "      <td>299.0</td>\n",
       "      <td>METRO</td>\n",
       "    </tr>\n",
       "  </tbody>\n",
       "</table>\n",
       "</div>"
      ],
      "text/plain": [
       "   count_cluster_0  count_cluster_1  count_cluster_2   mode\n",
       "0            229.0             40.0             13.0   WALK\n",
       "1              0.0              0.0            328.0   TRAM\n",
       "2              0.0              2.0            299.0  METRO"
      ]
     },
     "execution_count": 414,
     "metadata": {},
     "output_type": "execute_result"
    }
   ],
   "source": [
    "mode_dist_df = get_distribution_of_cluster_labels_for(\"mode\", distance_matrix)\n",
    "mode_dist_df"
   ]
  },
  {
   "cell_type": "markdown",
   "metadata": {},
   "source": [
    "### Plot distribution of cluster labels for transport modes"
   ]
  },
  {
   "cell_type": "code",
   "execution_count": 415,
   "metadata": {
    "scrolled": false
   },
   "outputs": [
    {
     "data": {
      "image/png": "[encoded data removed]",
      "text/plain": [
       "<matplotlib.figure.Figure at 0x7fe437b118d0>"
      ]
     },
     "metadata": {},
     "output_type": "display_data"
    }
   ],
   "source": [
    "plot_distribution_of_cluster_labels_for_target(\"mode\", distance_matrix)"
   ]
  },
  {
   "cell_type": "markdown",
   "metadata": {},
   "source": [
    "### Plot distribution of cluster labels for tokens"
   ]
  },
  {
   "cell_type": "code",
   "execution_count": 416,
   "metadata": {},
   "outputs": [
    {
     "data": {
      "image/png": "[encoded data removed]",
      "text/plain": [
       "<matplotlib.figure.Figure at 0x7fe437b66a90>"
      ]
     },
     "metadata": {},
     "output_type": "display_data"
    }
   ],
   "source": [
    "plot_distribution_of_cluster_labels_for_target(\"token\", distance_matrix)"
   ]
  },
  {
   "cell_type": "markdown",
   "metadata": {},
   "source": [
    "------\n",
    "## Plot all trips with their clustering labels"
   ]
  },
  {
   "cell_type": "code",
   "execution_count": 417,
   "metadata": {
    "scrolled": false
   },
   "outputs": [],
   "source": [
    "if plot_all_trips:\n",
    "    trips_unpacked = Preprocessor.unpack_all_trips(dfs)\n",
    "    plot_all_trips_with_cluster_coloring(trips_unpacked, distance_matrix)"
   ]
  }
 ],
 "metadata": {
  "kernelspec": {
   "display_name": "Python 3 @ /development/datamining",
   "language": "python",
   "name": "datamining"
  },
  "language_info": {
   "codemirror_mode": {
    "name": "ipython",
    "version": 3
   },
   "file_extension": ".py",
   "mimetype": "text/x-python",
   "name": "python",
   "nbconvert_exporter": "python",
   "pygments_lexer": "ipython3",
   "version": "3.5.2"
  }
 },
 "nbformat": 4,
 "nbformat_minor": 2
}
