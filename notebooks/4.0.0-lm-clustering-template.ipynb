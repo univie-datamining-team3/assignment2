{
 "cells": [
  {
   "cell_type": "markdown",
   "metadata": {},
   "source": [
    "# Time Series Clustering with K-Means and Euclidean Distance Matrix for total (n2) with Engineered Features\n",
    "\n",
    "\n",
    "This notebook provides a clustering for the total (n2) column of the acceleration data of scripted trips only. The exact approach can be seen here.\n",
    "\n",
    "----\n",
    "**Specification of experiment:**\n",
    "- scripted trips only\n",
    "- n2 column of acceleration data was used\n",
    "- Euclidean Distance was calculated\n",
    "- Feature Engineering with Quantiles, Standard deviation, maximum break/acceleration length\n",
    "\n",
    "-----\n",
    "**Results:**\n",
    "\n",
    "1) KMeans Clustering with 3 Clusters:\n",
    " - 'Estimated number of clusters: 3',\n",
    " - 'True number of clusters: 3' *,\n",
    " - 'Homogeneity: 0.897',\n",
    " - 'Completeness: 0.510',\n",
    " - 'V-measure: 0.650',\n",
    " - 'Adjusted MI: 0.509',\n",
    " - 'Silhouette Coefficient: 0.800'\n",
    "\n",
    "\n",
    "*Assume that transport modes are true clusters"
   ]
  },
  {
   "cell_type": "code",
   "execution_count": null,
   "metadata": {},
   "outputs": [],
   "source": [
    "# Load the \"autoreload\" extension\n",
    "%load_ext autoreload\n",
    "\n",
    "# always reload modules marked with \"%aimport\"\n",
    "%autoreload 1\n",
    "\n",
    "import os\n",
    "import sys\n",
    "from dotenv import load_dotenv, find_dotenv\n",
    "import numpy as np\n",
    "import pandas as pd\n",
    "from sklearn.preprocessing import scale\n",
    "#Visualisation Libraries\n",
    "%matplotlib inline\n",
    "# Uncomment if you want interactive 3D plots --> does not work in the github rendering\n",
    "#%matplotlib notebook\n",
    "from copy import deepcopy\n",
    "\n",
    "import matplotlib\n",
    "import matplotlib.pyplot as plt\n",
    "from mpl_toolkits.mplot3d import Axes3D\n",
    "matplotlib.style.use('ggplot')\n",
    "import seaborn as sns\n",
    "\n",
    "from IPython.display import display_markdown\n",
    "\n",
    "# add the 'src' directory as one where we can import modules\n",
    "src_dir = os.path.join(os.getcwd(), os.pardir, 'src')\n",
    "sys.path.append(src_dir)\n",
    "\n",
    "%aimport visualization.visualize\n",
    "from visualization.visualize import get_color_encoding\n",
    "from visualization.visualize import plot_timeseries_clustering\n",
    "from visualization.visualize import get_plot_timeseries_clustering_variables\n",
    "from visualization.visualize import get_distribution_of_cluster_labels_for\n",
    "from visualization.visualize import plot_distribution_of_cluster_labels_for_target\n",
    "from visualization.visualize import plot_all_trips_with_cluster_coloring\n",
    "from visualization.visualize import plot_2D_tsne_with_coloring_per_targets\n",
    "\n",
    "\n",
    "\n",
    "%aimport data.preprocessing\n",
    "from data.preprocessing import Preprocessor\n",
    "%aimport data.download\n",
    "from data.download import DatasetDownloader\n",
    "%aimport utils.utilities\n",
    "from utils.utilities import get_cluster_labels\n",
    "%aimport features.build_features\n",
    "from features.build_features import calculate_maximum_break_length\n",
    "from features.build_features import calculate_maximum_acceleration_length\n",
    "%aimport models.cluster\n",
    "from models.cluster import get_clustering_performance"
   ]
  },
  {
   "cell_type": "code",
   "execution_count": null,
   "metadata": {
    "collapsed": true
   },
   "outputs": [],
   "source": [
    "# Set to true if all trips should be plotted at the end\n",
    "plot_all_trips = True\n",
    "\n",
    "data_dir = os.path.join(os.path.abspath(DatasetDownloader.get_data_dir()))\n",
    "file_path = os.path.join(data_dir, \"preprocessed\",\"preprocessed_data.dat\")\n",
    "\n",
    "dfs = Preprocessor.restore_preprocessed_data_from_disk(file_path)"
   ]
  },
  {
   "cell_type": "code",
   "execution_count": null,
   "metadata": {
    "collapsed": true
   },
   "outputs": [],
   "source": [
    "categorical_columns = [\"mode\",\"notes\",\"scripted\",\"token\",\"trip_id\"]\n",
    "\n",
    "trips_cut_per_30_sec = Preprocessor.get_cut_trip_snippets_for_targets(dfs,[\"total\"])[0]\n",
    "scripted_trips_only = trips_cut_per_30_sec[trips_cut_per_30_sec[\"scripted\"] == 1]\n",
    "scripted_trips_only = scripted_trips_only.reset_index(drop=True)\n",
    "\n",
    "distance_matrix = Preprocessor.calculate_distance_for_n2(scripted_trips_only, metric=\"euclidean\")\n",
    "distances_only = distance_matrix.drop(categorical_columns,axis=1)"
   ]
  },
  {
   "cell_type": "markdown",
   "metadata": {},
   "source": [
    "### Choose which features to use"
   ]
  },
  {
   "cell_type": "code",
   "execution_count": null,
   "metadata": {
    "collapsed": true
   },
   "outputs": [],
   "source": [
    "features_used = summary"
   ]
  },
  {
   "cell_type": "markdown",
   "metadata": {},
   "source": [
    "### Prepare features for clustering"
   ]
  },
  {
   "cell_type": "code",
   "execution_count": null,
   "metadata": {},
   "outputs": [],
   "source": [
    "features_used = features_used.drop(categorical_columns,axis=1)\n",
    "features_used = pd.DataFrame(scale(features_used),columns=features_used.columns)\n",
    "features_used.head(2)"
   ]
  },
  {
   "cell_type": "markdown",
   "metadata": {},
   "source": [
    "------\n",
    "# Model Building\n",
    "\n",
    "## Create Model with Clustering by --Name--"
   ]
  },
  {
   "cell_type": "markdown",
   "metadata": {},
   "source": [
    "Use summaries of each distance"
   ]
  },
  {
   "cell_type": "code",
   "execution_count": null,
   "metadata": {
    "collapsed": true
   },
   "outputs": [],
   "source": [
    "from sklearn.cluster import KMeans\n",
    "random_state = 0\n",
    "\n",
    "kmeans = KMeans(n_clusters=3, random_state=random_state).fit(features_used)\n",
    "cluster_labels = kmeans.labels_\n",
    "distance_matrix[\"cluster_labels\"]=cluster_labels"
   ]
  },
  {
   "cell_type": "markdown",
   "metadata": {},
   "source": [
    "-----\n",
    "## Summary Statistics for --Name-- Clustering:\n",
    "\n",
    "Here the performance is evaluated in regard to the \"true labels\" which here corresponds to the transport mode."
   ]
  },
  {
   "cell_type": "code",
   "execution_count": null,
   "metadata": {},
   "outputs": [],
   "source": [
    "cluster_performance = get_clustering_performance(features_used, cluster_labels,\n",
    "                                                 true_labels=distance_matrix[\"mode\"])\n",
    "for line in cluster_performance:\n",
    "    display_markdown(\" - {}\".format(line),raw=True)"
   ]
  },
  {
   "cell_type": "markdown",
   "metadata": {},
   "source": [
    "## Visualise Clustering on 2D - TSNE Plot:"
   ]
  },
  {
   "cell_type": "code",
   "execution_count": null,
   "metadata": {},
   "outputs": [],
   "source": [
    "color_encodings = distance_matrix.loc[:,[\"cluster_labels\",\"mode\",\"token\"]]\n",
    "plot_2D_tsne_with_coloring_per_targets(features_used, color_encodings)"
   ]
  },
  {
   "cell_type": "markdown",
   "metadata": {},
   "source": [
    "## Inspect the distribution of modes to cluster label for all trips\n",
    "\n",
    "From this we can see that it the clustering is not distinct between \"WALK\" and \"TRAM\""
   ]
  },
  {
   "cell_type": "code",
   "execution_count": null,
   "metadata": {},
   "outputs": [],
   "source": [
    "mode_dist_df = get_distribution_of_cluster_labels_for(\"mode\", distance_matrix)\n",
    "mode_dist_df"
   ]
  },
  {
   "cell_type": "markdown",
   "metadata": {},
   "source": [
    "### Plot distribution of cluster labels for transport modes"
   ]
  },
  {
   "cell_type": "code",
   "execution_count": null,
   "metadata": {
    "scrolled": false
   },
   "outputs": [],
   "source": [
    "plot_distribution_of_cluster_labels_for_target(\"mode\", distance_matrix)"
   ]
  },
  {
   "cell_type": "markdown",
   "metadata": {},
   "source": [
    "### Plot distribution of cluster labels for tokens"
   ]
  },
  {
   "cell_type": "code",
   "execution_count": null,
   "metadata": {},
   "outputs": [],
   "source": [
    "plot_distribution_of_cluster_labels_for_target(\"token\", distance_matrix)"
   ]
  },
  {
   "cell_type": "markdown",
   "metadata": {},
   "source": [
    "------\n",
    "## Plot all trips with their clustering labels"
   ]
  },
  {
   "cell_type": "code",
   "execution_count": null,
   "metadata": {
    "scrolled": false
   },
   "outputs": [],
   "source": [
    "if plot_all_trips:\n",
    "    trips_unpacked = Preprocessor.unpack_all_trips(dfs)\n",
    "    plot_all_trips_with_cluster_coloring(trips_unpacked, distance_matrix)"
   ]
  }
 ],
 "metadata": {
  "kernelspec": {
   "display_name": "Python [conda env:Tensorflow]",
   "language": "python",
   "name": "conda-env-Tensorflow-py"
  },
  "language_info": {
   "codemirror_mode": {
    "name": "ipython",
    "version": 3
   },
   "file_extension": ".py",
   "mimetype": "text/x-python",
   "name": "python",
   "nbconvert_exporter": "python",
   "pygments_lexer": "ipython3",
   "version": "3.5.4"
  }
 },
 "nbformat": 4,
 "nbformat_minor": 2
}
