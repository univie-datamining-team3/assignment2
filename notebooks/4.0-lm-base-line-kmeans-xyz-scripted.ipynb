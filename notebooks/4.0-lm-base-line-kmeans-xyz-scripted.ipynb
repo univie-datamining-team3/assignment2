{
 "cells": [
  {
   "cell_type": "markdown",
   "metadata": {},
   "source": [
    "# Time Series Clustering with K-Means and Euclidean Distance Matrix for x,y,z\n",
    "\n",
    "\n",
    "This notebook provides a base clustering for scripted trips without feature engineering and K-Means with k=3. k=3 follows the naive assumption that the cluster structure is only influenced by the labels. \n",
    "\n",
    "----\n",
    "**Specification of experiment:**\n",
    "- scripted trips\n",
    "- x,y,z columns of acceleration data was used\n",
    "- Euclidean Distance was calculated\n",
    "- No Feature Engineering\n",
    "\n",
    "-----\n",
    "**Results:**\n",
    "\n",
    "1) KMeans Clustering:\n",
    "\n",
    "\n",
    "\n",
    "    Estimated number of clusters: 3\n",
    "\n",
    "    True number of clusters: 3\n",
    "\n",
    "    Homogeneity: 0.449\n",
    "\n",
    "    Completeness: 0.440\n",
    "\n",
    "    V-measure: 0.445\n",
    "\n",
    "    Adjusted MI: 0.439\n",
    "\n",
    "    Silhouette Coefficient: 0.601\n",
    "\n",
    "\n",
    "\n",
    "\n",
    "*Assume that transport modes are true clusters"
   ]
  },
  {
   "cell_type": "code",
   "execution_count": 1,
   "metadata": {
    "collapsed": true
   },
   "outputs": [],
   "source": [
    "# Load the \"autoreload\" extension\n",
    "%load_ext autoreload\n",
    "\n",
    "# always reload modules marked with \"%aimport\"\n",
    "%autoreload 1\n",
    "\n",
    "import os\n",
    "import sys\n",
    "from dotenv import load_dotenv, find_dotenv\n",
    "import numpy as np\n",
    "import pandas as pd\n",
    "#Visualisation Libraries\n",
    "%matplotlib inline\n",
    "# Uncomment if you want interactive 3D plots --> does not work in the github rendering\n",
    "#%matplotlib notebook\n",
    "from copy import deepcopy\n",
    "\n",
    "import matplotlib\n",
    "import matplotlib.pyplot as plt\n",
    "from mpl_toolkits.mplot3d import Axes3D\n",
    "matplotlib.style.use('ggplot')\n",
    "import seaborn as sns\n",
    "\n",
    "from IPython.display import display_markdown\n",
    "\n",
    "# add the 'src' directory as one where we can import modules\n",
    "src_dir = os.path.join(os.getcwd(), os.pardir, 'src')\n",
    "sys.path.append(src_dir)\n",
    "\n",
    "%aimport visualization.visualize\n",
    "from visualization.visualize import get_color_encoding\n",
    "from visualization.visualize import plot_timeseries_clustering\n",
    "from visualization.visualize import get_plot_timeseries_clustering_variables\n",
    "from visualization.visualize import plot_2D_tsne_with_coloring_per_targets\n",
    "from visualization.visualize import plot_all_trips_with_cluster_coloring\n",
    "from visualization.visualize import get_distribution_of_cluster_labels_for\n",
    "\n",
    "\n",
    "%aimport data.preprocessing\n",
    "from data.preprocessing import Preprocessor\n",
    "%aimport data.download\n",
    "from data.download import DatasetDownloader\n",
    "%aimport utils.utilities\n",
    "from utils.utilities import get_cluster_labels\n",
    "\n",
    "%aimport models.cluster\n",
    "from models.cluster import get_clustering_performance"
   ]
  },
  {
   "cell_type": "code",
   "execution_count": 2,
   "metadata": {
    "collapsed": true
   },
   "outputs": [],
   "source": [
    "# Set to true if all trips should be plotted at the end\n",
    "plot_all_trips = False\n",
    "\n",
    "data_dir = os.path.join(os.path.abspath(DatasetDownloader.get_data_dir()))\n",
    "file_path = os.path.join(data_dir, \"preprocessed\",\"preprocessed_data.dat\")\n",
    "dfs = Preprocessor.restore_preprocessed_data_from_disk(file_path)"
   ]
  },
  {
   "cell_type": "code",
   "execution_count": 3,
   "metadata": {
    "collapsed": true
   },
   "outputs": [],
   "source": [
    "trips_cut_per_30_sec = Preprocessor.get_cut_trip_snippets_for_targets(dfs,[\"total\"])[0]\n",
    "\n",
    "individual_xyz_file_path = os.path.join(data_dir, \"preprocessed\",\"preprocessed_data_individual_euclidean_xyz.csv\")\n",
    "\n",
    "euclidean_distances = pd.read_csv(individual_xyz_file_path,sep=\";\")\n",
    "euclidean_distances = euclidean_distances[euclidean_distances[\"scripted\"] == 1]\n",
    "euclidean_distances = euclidean_distances.reset_index(drop=True)"
   ]
  },
  {
   "cell_type": "code",
   "execution_count": 4,
   "metadata": {},
   "outputs": [
    {
     "name": "stdout",
     "output_type": "stream",
     "text": [
      "(911, 1616)\n"
     ]
    },
    {
     "data": {
      "text/html": [
       "<div>\n",
       "<style scoped>\n",
       "    .dataframe tbody tr th:only-of-type {\n",
       "        vertical-align: middle;\n",
       "    }\n",
       "\n",
       "    .dataframe tbody tr th {\n",
       "        vertical-align: top;\n",
       "    }\n",
       "\n",
       "    .dataframe thead th {\n",
       "        text-align: right;\n",
       "    }\n",
       "</style>\n",
       "<table border=\"1\" class=\"dataframe\">\n",
       "  <thead>\n",
       "    <tr style=\"text-align: right;\">\n",
       "      <th></th>\n",
       "      <th>distance_0</th>\n",
       "      <th>distance_1</th>\n",
       "      <th>distance_2</th>\n",
       "      <th>distance_3</th>\n",
       "      <th>distance_4</th>\n",
       "      <th>distance_5</th>\n",
       "      <th>distance_6</th>\n",
       "      <th>distance_7</th>\n",
       "      <th>distance_8</th>\n",
       "      <th>distance_9</th>\n",
       "      <th>...</th>\n",
       "      <th>distance_1606</th>\n",
       "      <th>distance_1607</th>\n",
       "      <th>distance_1608</th>\n",
       "      <th>distance_1609</th>\n",
       "      <th>distance_1610</th>\n",
       "      <th>mode</th>\n",
       "      <th>notes</th>\n",
       "      <th>scripted</th>\n",
       "      <th>token</th>\n",
       "      <th>trip_id</th>\n",
       "    </tr>\n",
       "  </thead>\n",
       "  <tbody>\n",
       "    <tr>\n",
       "      <th>0</th>\n",
       "      <td>0.000000</td>\n",
       "      <td>27.823609</td>\n",
       "      <td>26.115808</td>\n",
       "      <td>13.471125</td>\n",
       "      <td>35.981686</td>\n",
       "      <td>30.434316</td>\n",
       "      <td>32.468222</td>\n",
       "      <td>39.064497</td>\n",
       "      <td>27.660946</td>\n",
       "      <td>23.998385</td>\n",
       "      <td>...</td>\n",
       "      <td>103.397442</td>\n",
       "      <td>116.188026</td>\n",
       "      <td>183.108763</td>\n",
       "      <td>345.031215</td>\n",
       "      <td>428.642706</td>\n",
       "      <td>METRO</td>\n",
       "      <td>scripted</td>\n",
       "      <td>1</td>\n",
       "      <td>355007075245007</td>\n",
       "      <td>0</td>\n",
       "    </tr>\n",
       "    <tr>\n",
       "      <th>1</th>\n",
       "      <td>27.823609</td>\n",
       "      <td>0.000000</td>\n",
       "      <td>33.393156</td>\n",
       "      <td>27.759992</td>\n",
       "      <td>31.199391</td>\n",
       "      <td>36.979263</td>\n",
       "      <td>22.178690</td>\n",
       "      <td>43.200119</td>\n",
       "      <td>29.260218</td>\n",
       "      <td>21.752325</td>\n",
       "      <td>...</td>\n",
       "      <td>108.037454</td>\n",
       "      <td>124.111683</td>\n",
       "      <td>178.474925</td>\n",
       "      <td>345.297233</td>\n",
       "      <td>428.620019</td>\n",
       "      <td>METRO</td>\n",
       "      <td>scripted</td>\n",
       "      <td>1</td>\n",
       "      <td>355007075245007</td>\n",
       "      <td>0</td>\n",
       "    </tr>\n",
       "    <tr>\n",
       "      <th>2</th>\n",
       "      <td>26.115808</td>\n",
       "      <td>33.393156</td>\n",
       "      <td>0.000000</td>\n",
       "      <td>20.304659</td>\n",
       "      <td>26.889491</td>\n",
       "      <td>10.119632</td>\n",
       "      <td>30.815231</td>\n",
       "      <td>16.579112</td>\n",
       "      <td>11.422631</td>\n",
       "      <td>27.275049</td>\n",
       "      <td>...</td>\n",
       "      <td>99.924364</td>\n",
       "      <td>109.625667</td>\n",
       "      <td>165.326335</td>\n",
       "      <td>332.480561</td>\n",
       "      <td>422.845103</td>\n",
       "      <td>METRO</td>\n",
       "      <td>scripted</td>\n",
       "      <td>1</td>\n",
       "      <td>355007075245007</td>\n",
       "      <td>0</td>\n",
       "    </tr>\n",
       "    <tr>\n",
       "      <th>3</th>\n",
       "      <td>13.471125</td>\n",
       "      <td>27.759992</td>\n",
       "      <td>20.304659</td>\n",
       "      <td>0.000000</td>\n",
       "      <td>34.919146</td>\n",
       "      <td>24.745631</td>\n",
       "      <td>31.323753</td>\n",
       "      <td>32.372791</td>\n",
       "      <td>22.646023</td>\n",
       "      <td>23.833539</td>\n",
       "      <td>...</td>\n",
       "      <td>104.992975</td>\n",
       "      <td>115.524044</td>\n",
       "      <td>180.578798</td>\n",
       "      <td>344.423846</td>\n",
       "      <td>429.882985</td>\n",
       "      <td>METRO</td>\n",
       "      <td>scripted</td>\n",
       "      <td>1</td>\n",
       "      <td>355007075245007</td>\n",
       "      <td>0</td>\n",
       "    </tr>\n",
       "    <tr>\n",
       "      <th>4</th>\n",
       "      <td>35.981686</td>\n",
       "      <td>31.199391</td>\n",
       "      <td>26.889491</td>\n",
       "      <td>34.919146</td>\n",
       "      <td>0.000000</td>\n",
       "      <td>28.191097</td>\n",
       "      <td>26.761223</td>\n",
       "      <td>29.967852</td>\n",
       "      <td>20.149896</td>\n",
       "      <td>27.808318</td>\n",
       "      <td>...</td>\n",
       "      <td>99.639452</td>\n",
       "      <td>115.825133</td>\n",
       "      <td>161.575808</td>\n",
       "      <td>332.872086</td>\n",
       "      <td>426.237817</td>\n",
       "      <td>METRO</td>\n",
       "      <td>scripted</td>\n",
       "      <td>1</td>\n",
       "      <td>355007075245007</td>\n",
       "      <td>0</td>\n",
       "    </tr>\n",
       "  </tbody>\n",
       "</table>\n",
       "<p>5 rows × 1616 columns</p>\n",
       "</div>"
      ],
      "text/plain": [
       "   distance_0  distance_1  distance_2  distance_3  distance_4  distance_5  \\\n",
       "0    0.000000   27.823609   26.115808   13.471125   35.981686   30.434316   \n",
       "1   27.823609    0.000000   33.393156   27.759992   31.199391   36.979263   \n",
       "2   26.115808   33.393156    0.000000   20.304659   26.889491   10.119632   \n",
       "3   13.471125   27.759992   20.304659    0.000000   34.919146   24.745631   \n",
       "4   35.981686   31.199391   26.889491   34.919146    0.000000   28.191097   \n",
       "\n",
       "   distance_6  distance_7  distance_8  distance_9   ...     distance_1606  \\\n",
       "0   32.468222   39.064497   27.660946   23.998385   ...        103.397442   \n",
       "1   22.178690   43.200119   29.260218   21.752325   ...        108.037454   \n",
       "2   30.815231   16.579112   11.422631   27.275049   ...         99.924364   \n",
       "3   31.323753   32.372791   22.646023   23.833539   ...        104.992975   \n",
       "4   26.761223   29.967852   20.149896   27.808318   ...         99.639452   \n",
       "\n",
       "   distance_1607  distance_1608  distance_1609  distance_1610   mode  \\\n",
       "0     116.188026     183.108763     345.031215     428.642706  METRO   \n",
       "1     124.111683     178.474925     345.297233     428.620019  METRO   \n",
       "2     109.625667     165.326335     332.480561     422.845103  METRO   \n",
       "3     115.524044     180.578798     344.423846     429.882985  METRO   \n",
       "4     115.825133     161.575808     332.872086     426.237817  METRO   \n",
       "\n",
       "      notes  scripted            token  trip_id  \n",
       "0  scripted         1  355007075245007        0  \n",
       "1  scripted         1  355007075245007        0  \n",
       "2  scripted         1  355007075245007        0  \n",
       "3  scripted         1  355007075245007        0  \n",
       "4  scripted         1  355007075245007        0  \n",
       "\n",
       "[5 rows x 1616 columns]"
      ]
     },
     "execution_count": 4,
     "metadata": {},
     "output_type": "execute_result"
    }
   ],
   "source": [
    "print(euclidean_distances.shape)\n",
    "euclidean_distances.head(5)"
   ]
  },
  {
   "cell_type": "code",
   "execution_count": 5,
   "metadata": {},
   "outputs": [
    {
     "name": "stdout",
     "output_type": "stream",
     "text": [
      "(911, 1611)\n"
     ]
    }
   ],
   "source": [
    "from sklearn.preprocessing import scale\n",
    "categorical_columns = [\"mode\",\"notes\",\"scripted\",\"token\",\"trip_id\"]\n",
    "\n",
    "trips_only = euclidean_distances.drop(categorical_columns,axis=1)\n",
    "print(trips_only.shape)\n",
    "trips_only = pd.DataFrame(scale(trips_only),columns=trips_only.columns)"
   ]
  },
  {
   "cell_type": "markdown",
   "metadata": {},
   "source": [
    "------\n",
    "## Create Base Model with Euclidean Distance and K-Means Clustering"
   ]
  },
  {
   "cell_type": "code",
   "execution_count": 6,
   "metadata": {
    "collapsed": true
   },
   "outputs": [],
   "source": [
    "from sklearn.cluster import KMeans\n",
    "random_state = 0\n",
    "\n",
    "#Naive asumption of 3 clusters due to 3 labels Walk, Metro and Tram \n",
    "kmeans = KMeans(n_clusters=3, random_state=random_state).fit(trips_only)\n",
    "cluster_labels = kmeans.labels_\n",
    "euclidean_distances[\"cluster_labels\"]=cluster_labels"
   ]
  },
  {
   "cell_type": "markdown",
   "metadata": {},
   "source": [
    "### Summary Statistics for KMeans Clustering:\n",
    "\n",
    "Here the performance is evaluated in regard to the \"true labels\" which here corresponds to the transport mode."
   ]
  },
  {
   "cell_type": "code",
   "execution_count": 7,
   "metadata": {},
   "outputs": [
    {
     "data": {
      "text/markdown": [
       " - Estimated number of clusters: 3"
      ]
     },
     "metadata": {},
     "output_type": "display_data"
    },
    {
     "data": {
      "text/markdown": [
       " - True number of clusters: 3"
      ]
     },
     "metadata": {},
     "output_type": "display_data"
    },
    {
     "data": {
      "text/markdown": [
       " - Homogeneity: 0.449"
      ]
     },
     "metadata": {},
     "output_type": "display_data"
    },
    {
     "data": {
      "text/markdown": [
       " - Completeness: 0.440"
      ]
     },
     "metadata": {},
     "output_type": "display_data"
    },
    {
     "data": {
      "text/markdown": [
       " - V-measure: 0.445"
      ]
     },
     "metadata": {},
     "output_type": "display_data"
    },
    {
     "data": {
      "text/markdown": [
       " - Adjusted MI: 0.439"
      ]
     },
     "metadata": {},
     "output_type": "display_data"
    },
    {
     "data": {
      "text/markdown": [
       " - Silhouette Coefficient: 0.601"
      ]
     },
     "metadata": {},
     "output_type": "display_data"
    }
   ],
   "source": [
    "# how well does it capture the label information\n",
    "\n",
    "cluster_performance = get_clustering_performance(trips_only, cluster_labels,\n",
    "                           true_labels=euclidean_distances[\"mode\"])\n",
    "for line in cluster_performance:\n",
    "    display_markdown(\" - {}\".format(line),raw=True)"
   ]
  },
  {
   "cell_type": "markdown",
   "metadata": {},
   "source": [
    "## Visualise Clustering on 2D - TSNE Plot:"
   ]
  },
  {
   "cell_type": "code",
   "execution_count": 8,
   "metadata": {},
   "outputs": [
    {
     "data": {
      "image/png": "[encoded data removed]",
      "text/plain": [
       "<matplotlib.figure.Figure at 0x20e081436a0>"
      ]
     },
     "metadata": {},
     "output_type": "display_data"
    }
   ],
   "source": [
    "from sklearn.decomposition import PCA\n",
    "pca = PCA(n_components=100)\n",
    "reduced = pd.DataFrame(pca.fit_transform(trips_only))\n",
    "\n",
    "color_encodings = euclidean_distances.loc[:,[\"cluster_labels\",\"mode\",\"token\"]]\n",
    "plot_2D_tsne_with_coloring_per_targets(reduced, color_encodings)"
   ]
  },
  {
   "cell_type": "markdown",
   "metadata": {},
   "source": [
    "## Plot the distribution of modes to cluster label for all trips\n",
    "\n",
    "From this we can see that it the clustering is not distinct between \"WALK\" and \"TRAM\""
   ]
  },
  {
   "cell_type": "code",
   "execution_count": 9,
   "metadata": {},
   "outputs": [
    {
     "data": {
      "text/html": [
       "<div>\n",
       "<style scoped>\n",
       "    .dataframe tbody tr th:only-of-type {\n",
       "        vertical-align: middle;\n",
       "    }\n",
       "\n",
       "    .dataframe tbody tr th {\n",
       "        vertical-align: top;\n",
       "    }\n",
       "\n",
       "    .dataframe thead th {\n",
       "        text-align: right;\n",
       "    }\n",
       "</style>\n",
       "<table border=\"1\" class=\"dataframe\">\n",
       "  <thead>\n",
       "    <tr style=\"text-align: right;\">\n",
       "      <th></th>\n",
       "      <th>count_cluster_0</th>\n",
       "      <th>count_cluster_1</th>\n",
       "      <th>count_cluster_2</th>\n",
       "      <th>mode</th>\n",
       "    </tr>\n",
       "  </thead>\n",
       "  <tbody>\n",
       "    <tr>\n",
       "      <th>0</th>\n",
       "      <td>16.0</td>\n",
       "      <td>184.0</td>\n",
       "      <td>101.0</td>\n",
       "      <td>METRO</td>\n",
       "    </tr>\n",
       "    <tr>\n",
       "      <th>1</th>\n",
       "      <td>282.0</td>\n",
       "      <td>0.0</td>\n",
       "      <td>0.0</td>\n",
       "      <td>WALK</td>\n",
       "    </tr>\n",
       "    <tr>\n",
       "      <th>2</th>\n",
       "      <td>26.0</td>\n",
       "      <td>188.0</td>\n",
       "      <td>114.0</td>\n",
       "      <td>TRAM</td>\n",
       "    </tr>\n",
       "  </tbody>\n",
       "</table>\n",
       "</div>"
      ],
      "text/plain": [
       "   count_cluster_0  count_cluster_1  count_cluster_2   mode\n",
       "0             16.0            184.0            101.0  METRO\n",
       "1            282.0              0.0              0.0   WALK\n",
       "2             26.0            188.0            114.0   TRAM"
      ]
     },
     "execution_count": 9,
     "metadata": {},
     "output_type": "execute_result"
    }
   ],
   "source": [
    "mode_dist_df = get_distribution_of_cluster_labels_for(\"mode\", euclidean_distances)\n",
    "mode_dist_df"
   ]
  },
  {
   "cell_type": "code",
   "execution_count": 10,
   "metadata": {
    "scrolled": true
   },
   "outputs": [
    {
     "data": {
      "image/png": "[encoded data removed]",
      "text/plain": [
       "<matplotlib.figure.Figure at 0x20e20d9de10>"
      ]
     },
     "metadata": {},
     "output_type": "display_data"
    }
   ],
   "source": [
    "mode_dist_df.set_index(\"mode\").plot(kind=\"bar\",figsize=(15,5));"
   ]
  },
  {
   "cell_type": "markdown",
   "metadata": {},
   "source": [
    "## Plot distribution of cluster labels for scripted and tokens"
   ]
  },
  {
   "cell_type": "code",
   "execution_count": 11,
   "metadata": {
    "scrolled": true
   },
   "outputs": [
    {
     "data": {
      "image/png": "[encoded data removed]",
      "text/plain": [
       "<matplotlib.figure.Figure at 0x20e24e795f8>"
      ]
     },
     "metadata": {},
     "output_type": "display_data"
    }
   ],
   "source": [
    "scripted_dist_df = get_distribution_of_cluster_labels_for(\"scripted\", euclidean_distances)\n",
    "scripted_dist_df.set_index(\"scripted\").plot(kind=\"bar\",figsize=(15,5));"
   ]
  },
  {
   "cell_type": "code",
   "execution_count": 12,
   "metadata": {},
   "outputs": [
    {
     "data": {
      "image/png": "[encoded data removed]",
      "text/plain": [
       "<matplotlib.figure.Figure at 0x20e09df2b70>"
      ]
     },
     "metadata": {},
     "output_type": "display_data"
    }
   ],
   "source": [
    "token_dist_df = get_distribution_of_cluster_labels_for(\"token\", euclidean_distances)\n",
    "token_dist_df.set_index(\"token\").plot(kind=\"bar\",figsize=(15,5));"
   ]
  },
  {
   "cell_type": "markdown",
   "metadata": {},
   "source": [
    "## Plot all trips with their clustering labels"
   ]
  },
  {
   "cell_type": "code",
   "execution_count": 13,
   "metadata": {
    "scrolled": false
   },
   "outputs": [],
   "source": [
    "if plot_all_trips:\n",
    "    trips_unpacked = Preprocessor.unpack_all_trips(dfs)\n",
    "    trips_unpacked = [trip for trip in trips_unpacked if \"scripted\" in str(trip[\"annotation\"][\"notes\"][0]).lower()]\n",
    "    plot_all_trips_with_cluster_coloring(trips_unpacked, euclidean_distances)"
   ]
  }
 ],
 "metadata": {
  "kernelspec": {
   "display_name": "Python [conda env:Tensorflow]",
   "language": "python",
   "name": "conda-env-Tensorflow-py"
  },
  "language_info": {
   "codemirror_mode": {
    "name": "ipython",
    "version": 3
   },
   "file_extension": ".py",
   "mimetype": "text/x-python",
   "name": "python",
   "nbconvert_exporter": "python",
   "pygments_lexer": "ipython3",
   "version": "3.5.4"
  }
 },
 "nbformat": 4,
 "nbformat_minor": 2
}
